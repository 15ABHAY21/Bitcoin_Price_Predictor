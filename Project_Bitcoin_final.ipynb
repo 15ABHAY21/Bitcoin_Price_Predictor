{
  "nbformat": 4,
  "nbformat_minor": 0,
  "metadata": {
    "accelerator": "GPU",
    "colab": {
      "provenance": []
    },
    "kernelspec": {
      "display_name": "Python 3",
      "name": "python3"
    },
    "language_info": {
      "name": "python"
    }
  },
  "cells": [
    {
      "cell_type": "markdown",
      "metadata": {
        "id": "vlVtweEv7nAx"
      },
      "source": [
        "##Time series forecasting in TensorFlow (Bitcoin_Predict)\n",
        "I am going to be building a series of models in an attempt to predict the price of Bitcoin.\n",
        "* Setting up a series of deep learning modelling experiments\n",
        "  * Dense (fully-connected) networks\n",
        "  * Sequence models (LSTM and 1D CNN)\n",
        "* Creating a modelling checkpoint to save the best performing model during training\n",
        "* Making predictions (forecasts) with a time series model\n",
        "* Creating prediction intervals for time series model forecasts\n"
      ]
    },
    {
      "cell_type": "markdown",
      "metadata": {
        "id": "IzG2AaejyE5d"
      },
      "source": [
        "## Check for GPU"
      ]
    },
    {
      "cell_type": "code",
      "metadata": {
        "id": "qjEuJ-j7yEdK",
        "colab": {
          "base_uri": "https://localhost:8080/",
          "height": 0
        },
        "outputId": "6ead5456-0d4e-4218-aaf1-03b1f764f844"
      },
      "source": [
        "# Check for GPU\n",
        "!nvidia-smi -L"
      ],
      "execution_count": 1,
      "outputs": [
        {
          "output_type": "stream",
          "name": "stdout",
          "text": [
            "GPU 0: Tesla T4 (UUID: GPU-56aeefaa-a754-3157-96ca-b57d8cbc74ad)\n"
          ]
        }
      ]
    },
    {
      "cell_type": "markdown",
      "metadata": {
        "id": "81ywkh0q8Apj"
      },
      "source": [
        "## Get data\n",
        "Specifically, I am going to get the prices of Bitcoin from 01 October 2013 to 18 May 2021."
      ]
    },
    {
      "cell_type": "code",
      "metadata": {
        "colab": {
          "base_uri": "https://localhost:8080/",
          "height": 0
        },
        "id": "mVEjK6ZHDqkQ",
        "outputId": "cc6fde3a-f2fb-4654-d6f1-49cac451185f"
      },
      "source": [
        "# Download Bitcoin historical data from GitHub\n",
        "# Note: you'll need to select \"Raw\" to download the data in the correct format\n",
        "!wget https://raw.githubusercontent.com/mrdbourke/tensorflow-deep-learning/main/extras/BTC_USD_2013-10-01_2021-05-18-CoinDesk.csv"
      ],
      "execution_count": 2,
      "outputs": [
        {
          "output_type": "stream",
          "name": "stdout",
          "text": [
            "--2023-10-19 06:29:21--  https://raw.githubusercontent.com/mrdbourke/tensorflow-deep-learning/main/extras/BTC_USD_2013-10-01_2021-05-18-CoinDesk.csv\n",
            "Resolving raw.githubusercontent.com (raw.githubusercontent.com)... 185.199.108.133, 185.199.109.133, 185.199.110.133, ...\n",
            "Connecting to raw.githubusercontent.com (raw.githubusercontent.com)|185.199.108.133|:443... connected.\n",
            "HTTP request sent, awaiting response... 200 OK\n",
            "Length: 178509 (174K) [text/plain]\n",
            "Saving to: ‘BTC_USD_2013-10-01_2021-05-18-CoinDesk.csv.2’\n",
            "\n",
            "\r          BTC_USD_2   0%[                    ]       0  --.-KB/s               \rBTC_USD_2013-10-01_ 100%[===================>] 174.33K  --.-KB/s    in 0.02s   \n",
            "\n",
            "2023-10-19 06:29:21 (6.84 MB/s) - ‘BTC_USD_2013-10-01_2021-05-18-CoinDesk.csv.2’ saved [178509/178509]\n",
            "\n"
          ]
        }
      ]
    },
    {
      "cell_type": "markdown",
      "metadata": {
        "id": "FRKabu6qB41C"
      },
      "source": [
        "### Importing time series data with pandas"
      ]
    },
    {
      "cell_type": "code",
      "metadata": {
        "colab": {
          "base_uri": "https://localhost:8080/",
          "height": 237
        },
        "id": "5FOrshVX_dUE",
        "outputId": "e7518400-e6d2-44bf-ff5d-2e7ad49933a0"
      },
      "source": [
        "# Import with pandas\n",
        "import pandas as pd\n",
        "import numpy as np\n",
        "# Parse dates and set date column to index\n",
        "df = pd.read_csv(\"/content/BTC_USD_2013-10-01_2021-05-18-CoinDesk.csv\",\n",
        "                 parse_dates=[\"Date\"],\n",
        "                 index_col=[\"Date\"]) # parse the date column (tell pandas column 1 is a datetime)\n",
        "df.head()"
      ],
      "execution_count": 3,
      "outputs": [
        {
          "output_type": "execute_result",
          "data": {
            "text/plain": [
              "           Currency  Closing Price (USD)  24h Open (USD)  24h High (USD)  \\\n",
              "Date                                                                       \n",
              "2013-10-01      BTC            123.65499       124.30466       124.75166   \n",
              "2013-10-02      BTC            125.45500       123.65499       125.75850   \n",
              "2013-10-03      BTC            108.58483       125.45500       125.66566   \n",
              "2013-10-04      BTC            118.67466       108.58483       118.67500   \n",
              "2013-10-05      BTC            121.33866       118.67466       121.93633   \n",
              "\n",
              "            24h Low (USD)  \n",
              "Date                       \n",
              "2013-10-01      122.56349  \n",
              "2013-10-02      123.63383  \n",
              "2013-10-03       83.32833  \n",
              "2013-10-04      107.05816  \n",
              "2013-10-05      118.00566  "
            ],
            "text/html": [
              "\n",
              "  <div id=\"df-bb61f1c0-f1b2-4419-a16f-b0ca43c78104\" class=\"colab-df-container\">\n",
              "    <div>\n",
              "<style scoped>\n",
              "    .dataframe tbody tr th:only-of-type {\n",
              "        vertical-align: middle;\n",
              "    }\n",
              "\n",
              "    .dataframe tbody tr th {\n",
              "        vertical-align: top;\n",
              "    }\n",
              "\n",
              "    .dataframe thead th {\n",
              "        text-align: right;\n",
              "    }\n",
              "</style>\n",
              "<table border=\"1\" class=\"dataframe\">\n",
              "  <thead>\n",
              "    <tr style=\"text-align: right;\">\n",
              "      <th></th>\n",
              "      <th>Currency</th>\n",
              "      <th>Closing Price (USD)</th>\n",
              "      <th>24h Open (USD)</th>\n",
              "      <th>24h High (USD)</th>\n",
              "      <th>24h Low (USD)</th>\n",
              "    </tr>\n",
              "    <tr>\n",
              "      <th>Date</th>\n",
              "      <th></th>\n",
              "      <th></th>\n",
              "      <th></th>\n",
              "      <th></th>\n",
              "      <th></th>\n",
              "    </tr>\n",
              "  </thead>\n",
              "  <tbody>\n",
              "    <tr>\n",
              "      <th>2013-10-01</th>\n",
              "      <td>BTC</td>\n",
              "      <td>123.65499</td>\n",
              "      <td>124.30466</td>\n",
              "      <td>124.75166</td>\n",
              "      <td>122.56349</td>\n",
              "    </tr>\n",
              "    <tr>\n",
              "      <th>2013-10-02</th>\n",
              "      <td>BTC</td>\n",
              "      <td>125.45500</td>\n",
              "      <td>123.65499</td>\n",
              "      <td>125.75850</td>\n",
              "      <td>123.63383</td>\n",
              "    </tr>\n",
              "    <tr>\n",
              "      <th>2013-10-03</th>\n",
              "      <td>BTC</td>\n",
              "      <td>108.58483</td>\n",
              "      <td>125.45500</td>\n",
              "      <td>125.66566</td>\n",
              "      <td>83.32833</td>\n",
              "    </tr>\n",
              "    <tr>\n",
              "      <th>2013-10-04</th>\n",
              "      <td>BTC</td>\n",
              "      <td>118.67466</td>\n",
              "      <td>108.58483</td>\n",
              "      <td>118.67500</td>\n",
              "      <td>107.05816</td>\n",
              "    </tr>\n",
              "    <tr>\n",
              "      <th>2013-10-05</th>\n",
              "      <td>BTC</td>\n",
              "      <td>121.33866</td>\n",
              "      <td>118.67466</td>\n",
              "      <td>121.93633</td>\n",
              "      <td>118.00566</td>\n",
              "    </tr>\n",
              "  </tbody>\n",
              "</table>\n",
              "</div>\n",
              "    <div class=\"colab-df-buttons\">\n",
              "\n",
              "  <div class=\"colab-df-container\">\n",
              "    <button class=\"colab-df-convert\" onclick=\"convertToInteractive('df-bb61f1c0-f1b2-4419-a16f-b0ca43c78104')\"\n",
              "            title=\"Convert this dataframe to an interactive table.\"\n",
              "            style=\"display:none;\">\n",
              "\n",
              "  <svg xmlns=\"http://www.w3.org/2000/svg\" height=\"24px\" viewBox=\"0 -960 960 960\">\n",
              "    <path d=\"M120-120v-720h720v720H120Zm60-500h600v-160H180v160Zm220 220h160v-160H400v160Zm0 220h160v-160H400v160ZM180-400h160v-160H180v160Zm440 0h160v-160H620v160ZM180-180h160v-160H180v160Zm440 0h160v-160H620v160Z\"/>\n",
              "  </svg>\n",
              "    </button>\n",
              "\n",
              "  <style>\n",
              "    .colab-df-container {\n",
              "      display:flex;\n",
              "      gap: 12px;\n",
              "    }\n",
              "\n",
              "    .colab-df-convert {\n",
              "      background-color: #E8F0FE;\n",
              "      border: none;\n",
              "      border-radius: 50%;\n",
              "      cursor: pointer;\n",
              "      display: none;\n",
              "      fill: #1967D2;\n",
              "      height: 32px;\n",
              "      padding: 0 0 0 0;\n",
              "      width: 32px;\n",
              "    }\n",
              "\n",
              "    .colab-df-convert:hover {\n",
              "      background-color: #E2EBFA;\n",
              "      box-shadow: 0px 1px 2px rgba(60, 64, 67, 0.3), 0px 1px 3px 1px rgba(60, 64, 67, 0.15);\n",
              "      fill: #174EA6;\n",
              "    }\n",
              "\n",
              "    .colab-df-buttons div {\n",
              "      margin-bottom: 4px;\n",
              "    }\n",
              "\n",
              "    [theme=dark] .colab-df-convert {\n",
              "      background-color: #3B4455;\n",
              "      fill: #D2E3FC;\n",
              "    }\n",
              "\n",
              "    [theme=dark] .colab-df-convert:hover {\n",
              "      background-color: #434B5C;\n",
              "      box-shadow: 0px 1px 3px 1px rgba(0, 0, 0, 0.15);\n",
              "      filter: drop-shadow(0px 1px 2px rgba(0, 0, 0, 0.3));\n",
              "      fill: #FFFFFF;\n",
              "    }\n",
              "  </style>\n",
              "\n",
              "    <script>\n",
              "      const buttonEl =\n",
              "        document.querySelector('#df-bb61f1c0-f1b2-4419-a16f-b0ca43c78104 button.colab-df-convert');\n",
              "      buttonEl.style.display =\n",
              "        google.colab.kernel.accessAllowed ? 'block' : 'none';\n",
              "\n",
              "      async function convertToInteractive(key) {\n",
              "        const element = document.querySelector('#df-bb61f1c0-f1b2-4419-a16f-b0ca43c78104');\n",
              "        const dataTable =\n",
              "          await google.colab.kernel.invokeFunction('convertToInteractive',\n",
              "                                                    [key], {});\n",
              "        if (!dataTable) return;\n",
              "\n",
              "        const docLinkHtml = 'Like what you see? Visit the ' +\n",
              "          '<a target=\"_blank\" href=https://colab.research.google.com/notebooks/data_table.ipynb>data table notebook</a>'\n",
              "          + ' to learn more about interactive tables.';\n",
              "        element.innerHTML = '';\n",
              "        dataTable['output_type'] = 'display_data';\n",
              "        await google.colab.output.renderOutput(dataTable, element);\n",
              "        const docLink = document.createElement('div');\n",
              "        docLink.innerHTML = docLinkHtml;\n",
              "        element.appendChild(docLink);\n",
              "      }\n",
              "    </script>\n",
              "  </div>\n",
              "\n",
              "\n",
              "<div id=\"df-a5dca21c-d9c5-48b1-b508-f458a298e728\">\n",
              "  <button class=\"colab-df-quickchart\" onclick=\"quickchart('df-a5dca21c-d9c5-48b1-b508-f458a298e728')\"\n",
              "            title=\"Suggest charts.\"\n",
              "            style=\"display:none;\">\n",
              "\n",
              "<svg xmlns=\"http://www.w3.org/2000/svg\" height=\"24px\"viewBox=\"0 0 24 24\"\n",
              "     width=\"24px\">\n",
              "    <g>\n",
              "        <path d=\"M19 3H5c-1.1 0-2 .9-2 2v14c0 1.1.9 2 2 2h14c1.1 0 2-.9 2-2V5c0-1.1-.9-2-2-2zM9 17H7v-7h2v7zm4 0h-2V7h2v10zm4 0h-2v-4h2v4z\"/>\n",
              "    </g>\n",
              "</svg>\n",
              "  </button>\n",
              "\n",
              "<style>\n",
              "  .colab-df-quickchart {\n",
              "      --bg-color: #E8F0FE;\n",
              "      --fill-color: #1967D2;\n",
              "      --hover-bg-color: #E2EBFA;\n",
              "      --hover-fill-color: #174EA6;\n",
              "      --disabled-fill-color: #AAA;\n",
              "      --disabled-bg-color: #DDD;\n",
              "  }\n",
              "\n",
              "  [theme=dark] .colab-df-quickchart {\n",
              "      --bg-color: #3B4455;\n",
              "      --fill-color: #D2E3FC;\n",
              "      --hover-bg-color: #434B5C;\n",
              "      --hover-fill-color: #FFFFFF;\n",
              "      --disabled-bg-color: #3B4455;\n",
              "      --disabled-fill-color: #666;\n",
              "  }\n",
              "\n",
              "  .colab-df-quickchart {\n",
              "    background-color: var(--bg-color);\n",
              "    border: none;\n",
              "    border-radius: 50%;\n",
              "    cursor: pointer;\n",
              "    display: none;\n",
              "    fill: var(--fill-color);\n",
              "    height: 32px;\n",
              "    padding: 0;\n",
              "    width: 32px;\n",
              "  }\n",
              "\n",
              "  .colab-df-quickchart:hover {\n",
              "    background-color: var(--hover-bg-color);\n",
              "    box-shadow: 0 1px 2px rgba(60, 64, 67, 0.3), 0 1px 3px 1px rgba(60, 64, 67, 0.15);\n",
              "    fill: var(--button-hover-fill-color);\n",
              "  }\n",
              "\n",
              "  .colab-df-quickchart-complete:disabled,\n",
              "  .colab-df-quickchart-complete:disabled:hover {\n",
              "    background-color: var(--disabled-bg-color);\n",
              "    fill: var(--disabled-fill-color);\n",
              "    box-shadow: none;\n",
              "  }\n",
              "\n",
              "  .colab-df-spinner {\n",
              "    border: 2px solid var(--fill-color);\n",
              "    border-color: transparent;\n",
              "    border-bottom-color: var(--fill-color);\n",
              "    animation:\n",
              "      spin 1s steps(1) infinite;\n",
              "  }\n",
              "\n",
              "  @keyframes spin {\n",
              "    0% {\n",
              "      border-color: transparent;\n",
              "      border-bottom-color: var(--fill-color);\n",
              "      border-left-color: var(--fill-color);\n",
              "    }\n",
              "    20% {\n",
              "      border-color: transparent;\n",
              "      border-left-color: var(--fill-color);\n",
              "      border-top-color: var(--fill-color);\n",
              "    }\n",
              "    30% {\n",
              "      border-color: transparent;\n",
              "      border-left-color: var(--fill-color);\n",
              "      border-top-color: var(--fill-color);\n",
              "      border-right-color: var(--fill-color);\n",
              "    }\n",
              "    40% {\n",
              "      border-color: transparent;\n",
              "      border-right-color: var(--fill-color);\n",
              "      border-top-color: var(--fill-color);\n",
              "    }\n",
              "    60% {\n",
              "      border-color: transparent;\n",
              "      border-right-color: var(--fill-color);\n",
              "    }\n",
              "    80% {\n",
              "      border-color: transparent;\n",
              "      border-right-color: var(--fill-color);\n",
              "      border-bottom-color: var(--fill-color);\n",
              "    }\n",
              "    90% {\n",
              "      border-color: transparent;\n",
              "      border-bottom-color: var(--fill-color);\n",
              "    }\n",
              "  }\n",
              "</style>\n",
              "\n",
              "  <script>\n",
              "    async function quickchart(key) {\n",
              "      const quickchartButtonEl =\n",
              "        document.querySelector('#' + key + ' button');\n",
              "      quickchartButtonEl.disabled = true;  // To prevent multiple clicks.\n",
              "      quickchartButtonEl.classList.add('colab-df-spinner');\n",
              "      try {\n",
              "        const charts = await google.colab.kernel.invokeFunction(\n",
              "            'suggestCharts', [key], {});\n",
              "      } catch (error) {\n",
              "        console.error('Error during call to suggestCharts:', error);\n",
              "      }\n",
              "      quickchartButtonEl.classList.remove('colab-df-spinner');\n",
              "      quickchartButtonEl.classList.add('colab-df-quickchart-complete');\n",
              "    }\n",
              "    (() => {\n",
              "      let quickchartButtonEl =\n",
              "        document.querySelector('#df-a5dca21c-d9c5-48b1-b508-f458a298e728 button');\n",
              "      quickchartButtonEl.style.display =\n",
              "        google.colab.kernel.accessAllowed ? 'block' : 'none';\n",
              "    })();\n",
              "  </script>\n",
              "</div>\n",
              "    </div>\n",
              "  </div>\n"
            ]
          },
          "metadata": {},
          "execution_count": 3
        }
      ]
    },
    {
      "cell_type": "code",
      "metadata": {
        "colab": {
          "base_uri": "https://localhost:8080/",
          "height": 0
        },
        "id": "Z-YoeINjCzJ_",
        "outputId": "1af9f343-8465-4497-cc93-1899403b3ff0"
      },
      "source": [
        "df.info()"
      ],
      "execution_count": 4,
      "outputs": [
        {
          "output_type": "stream",
          "name": "stdout",
          "text": [
            "<class 'pandas.core.frame.DataFrame'>\n",
            "DatetimeIndex: 2787 entries, 2013-10-01 to 2021-05-18\n",
            "Data columns (total 5 columns):\n",
            " #   Column               Non-Null Count  Dtype  \n",
            "---  ------               --------------  -----  \n",
            " 0   Currency             2787 non-null   object \n",
            " 1   Closing Price (USD)  2787 non-null   float64\n",
            " 2   24h Open (USD)       2787 non-null   float64\n",
            " 3   24h High (USD)       2787 non-null   float64\n",
            " 4   24h Low (USD)        2787 non-null   float64\n",
            "dtypes: float64(4), object(1)\n",
            "memory usage: 130.6+ KB\n"
          ]
        }
      ]
    },
    {
      "cell_type": "code",
      "metadata": {
        "colab": {
          "base_uri": "https://localhost:8080/",
          "height": 0
        },
        "id": "XP3cN0uvlxhi",
        "outputId": "deb92869-e769-422f-82d5-a15a9507b762"
      },
      "source": [
        "# How many samples do we have?\n",
        "len(df)"
      ],
      "execution_count": 5,
      "outputs": [
        {
          "output_type": "execute_result",
          "data": {
            "text/plain": [
              "2787"
            ]
          },
          "metadata": {},
          "execution_count": 5
        }
      ]
    },
    {
      "cell_type": "markdown",
      "metadata": {
        "id": "u1RV6gYxC_Rs"
      },
      "source": [
        "I've collected the historical price of Bitcoin for the past ~8 years but there's only 2787 total samples.\n",
        "\n",
        "In our case, we've got the daily prices of Bitcoin, a max of 365 samples per year.\n",
        "\n",
        "To simplify, let's remove some of the columns from our data so we're only left with a date index and the closing price."
      ]
    },
    {
      "cell_type": "code",
      "metadata": {
        "colab": {
          "base_uri": "https://localhost:8080/",
          "height": 237
        },
        "id": "QxoNCv2NCuLY",
        "outputId": "f69b5dfb-b0eb-4e35-d66d-da01f1a24757"
      },
      "source": [
        "# Only want closing price for each day\n",
        "bitcoin_prices = pd.DataFrame(df[\"Closing Price (USD)\"]).rename(columns={\"Closing Price (USD)\": \"Price\"})\n",
        "bitcoin_prices.head()"
      ],
      "execution_count": 6,
      "outputs": [
        {
          "output_type": "execute_result",
          "data": {
            "text/plain": [
              "                Price\n",
              "Date                 \n",
              "2013-10-01  123.65499\n",
              "2013-10-02  125.45500\n",
              "2013-10-03  108.58483\n",
              "2013-10-04  118.67466\n",
              "2013-10-05  121.33866"
            ],
            "text/html": [
              "\n",
              "  <div id=\"df-4906e110-079c-4cf1-9eba-5d561e2fec1e\" class=\"colab-df-container\">\n",
              "    <div>\n",
              "<style scoped>\n",
              "    .dataframe tbody tr th:only-of-type {\n",
              "        vertical-align: middle;\n",
              "    }\n",
              "\n",
              "    .dataframe tbody tr th {\n",
              "        vertical-align: top;\n",
              "    }\n",
              "\n",
              "    .dataframe thead th {\n",
              "        text-align: right;\n",
              "    }\n",
              "</style>\n",
              "<table border=\"1\" class=\"dataframe\">\n",
              "  <thead>\n",
              "    <tr style=\"text-align: right;\">\n",
              "      <th></th>\n",
              "      <th>Price</th>\n",
              "    </tr>\n",
              "    <tr>\n",
              "      <th>Date</th>\n",
              "      <th></th>\n",
              "    </tr>\n",
              "  </thead>\n",
              "  <tbody>\n",
              "    <tr>\n",
              "      <th>2013-10-01</th>\n",
              "      <td>123.65499</td>\n",
              "    </tr>\n",
              "    <tr>\n",
              "      <th>2013-10-02</th>\n",
              "      <td>125.45500</td>\n",
              "    </tr>\n",
              "    <tr>\n",
              "      <th>2013-10-03</th>\n",
              "      <td>108.58483</td>\n",
              "    </tr>\n",
              "    <tr>\n",
              "      <th>2013-10-04</th>\n",
              "      <td>118.67466</td>\n",
              "    </tr>\n",
              "    <tr>\n",
              "      <th>2013-10-05</th>\n",
              "      <td>121.33866</td>\n",
              "    </tr>\n",
              "  </tbody>\n",
              "</table>\n",
              "</div>\n",
              "    <div class=\"colab-df-buttons\">\n",
              "\n",
              "  <div class=\"colab-df-container\">\n",
              "    <button class=\"colab-df-convert\" onclick=\"convertToInteractive('df-4906e110-079c-4cf1-9eba-5d561e2fec1e')\"\n",
              "            title=\"Convert this dataframe to an interactive table.\"\n",
              "            style=\"display:none;\">\n",
              "\n",
              "  <svg xmlns=\"http://www.w3.org/2000/svg\" height=\"24px\" viewBox=\"0 -960 960 960\">\n",
              "    <path d=\"M120-120v-720h720v720H120Zm60-500h600v-160H180v160Zm220 220h160v-160H400v160Zm0 220h160v-160H400v160ZM180-400h160v-160H180v160Zm440 0h160v-160H620v160ZM180-180h160v-160H180v160Zm440 0h160v-160H620v160Z\"/>\n",
              "  </svg>\n",
              "    </button>\n",
              "\n",
              "  <style>\n",
              "    .colab-df-container {\n",
              "      display:flex;\n",
              "      gap: 12px;\n",
              "    }\n",
              "\n",
              "    .colab-df-convert {\n",
              "      background-color: #E8F0FE;\n",
              "      border: none;\n",
              "      border-radius: 50%;\n",
              "      cursor: pointer;\n",
              "      display: none;\n",
              "      fill: #1967D2;\n",
              "      height: 32px;\n",
              "      padding: 0 0 0 0;\n",
              "      width: 32px;\n",
              "    }\n",
              "\n",
              "    .colab-df-convert:hover {\n",
              "      background-color: #E2EBFA;\n",
              "      box-shadow: 0px 1px 2px rgba(60, 64, 67, 0.3), 0px 1px 3px 1px rgba(60, 64, 67, 0.15);\n",
              "      fill: #174EA6;\n",
              "    }\n",
              "\n",
              "    .colab-df-buttons div {\n",
              "      margin-bottom: 4px;\n",
              "    }\n",
              "\n",
              "    [theme=dark] .colab-df-convert {\n",
              "      background-color: #3B4455;\n",
              "      fill: #D2E3FC;\n",
              "    }\n",
              "\n",
              "    [theme=dark] .colab-df-convert:hover {\n",
              "      background-color: #434B5C;\n",
              "      box-shadow: 0px 1px 3px 1px rgba(0, 0, 0, 0.15);\n",
              "      filter: drop-shadow(0px 1px 2px rgba(0, 0, 0, 0.3));\n",
              "      fill: #FFFFFF;\n",
              "    }\n",
              "  </style>\n",
              "\n",
              "    <script>\n",
              "      const buttonEl =\n",
              "        document.querySelector('#df-4906e110-079c-4cf1-9eba-5d561e2fec1e button.colab-df-convert');\n",
              "      buttonEl.style.display =\n",
              "        google.colab.kernel.accessAllowed ? 'block' : 'none';\n",
              "\n",
              "      async function convertToInteractive(key) {\n",
              "        const element = document.querySelector('#df-4906e110-079c-4cf1-9eba-5d561e2fec1e');\n",
              "        const dataTable =\n",
              "          await google.colab.kernel.invokeFunction('convertToInteractive',\n",
              "                                                    [key], {});\n",
              "        if (!dataTable) return;\n",
              "\n",
              "        const docLinkHtml = 'Like what you see? Visit the ' +\n",
              "          '<a target=\"_blank\" href=https://colab.research.google.com/notebooks/data_table.ipynb>data table notebook</a>'\n",
              "          + ' to learn more about interactive tables.';\n",
              "        element.innerHTML = '';\n",
              "        dataTable['output_type'] = 'display_data';\n",
              "        await google.colab.output.renderOutput(dataTable, element);\n",
              "        const docLink = document.createElement('div');\n",
              "        docLink.innerHTML = docLinkHtml;\n",
              "        element.appendChild(docLink);\n",
              "      }\n",
              "    </script>\n",
              "  </div>\n",
              "\n",
              "\n",
              "<div id=\"df-e43bf116-16fe-4825-8d58-78a7320e8662\">\n",
              "  <button class=\"colab-df-quickchart\" onclick=\"quickchart('df-e43bf116-16fe-4825-8d58-78a7320e8662')\"\n",
              "            title=\"Suggest charts.\"\n",
              "            style=\"display:none;\">\n",
              "\n",
              "<svg xmlns=\"http://www.w3.org/2000/svg\" height=\"24px\"viewBox=\"0 0 24 24\"\n",
              "     width=\"24px\">\n",
              "    <g>\n",
              "        <path d=\"M19 3H5c-1.1 0-2 .9-2 2v14c0 1.1.9 2 2 2h14c1.1 0 2-.9 2-2V5c0-1.1-.9-2-2-2zM9 17H7v-7h2v7zm4 0h-2V7h2v10zm4 0h-2v-4h2v4z\"/>\n",
              "    </g>\n",
              "</svg>\n",
              "  </button>\n",
              "\n",
              "<style>\n",
              "  .colab-df-quickchart {\n",
              "      --bg-color: #E8F0FE;\n",
              "      --fill-color: #1967D2;\n",
              "      --hover-bg-color: #E2EBFA;\n",
              "      --hover-fill-color: #174EA6;\n",
              "      --disabled-fill-color: #AAA;\n",
              "      --disabled-bg-color: #DDD;\n",
              "  }\n",
              "\n",
              "  [theme=dark] .colab-df-quickchart {\n",
              "      --bg-color: #3B4455;\n",
              "      --fill-color: #D2E3FC;\n",
              "      --hover-bg-color: #434B5C;\n",
              "      --hover-fill-color: #FFFFFF;\n",
              "      --disabled-bg-color: #3B4455;\n",
              "      --disabled-fill-color: #666;\n",
              "  }\n",
              "\n",
              "  .colab-df-quickchart {\n",
              "    background-color: var(--bg-color);\n",
              "    border: none;\n",
              "    border-radius: 50%;\n",
              "    cursor: pointer;\n",
              "    display: none;\n",
              "    fill: var(--fill-color);\n",
              "    height: 32px;\n",
              "    padding: 0;\n",
              "    width: 32px;\n",
              "  }\n",
              "\n",
              "  .colab-df-quickchart:hover {\n",
              "    background-color: var(--hover-bg-color);\n",
              "    box-shadow: 0 1px 2px rgba(60, 64, 67, 0.3), 0 1px 3px 1px rgba(60, 64, 67, 0.15);\n",
              "    fill: var(--button-hover-fill-color);\n",
              "  }\n",
              "\n",
              "  .colab-df-quickchart-complete:disabled,\n",
              "  .colab-df-quickchart-complete:disabled:hover {\n",
              "    background-color: var(--disabled-bg-color);\n",
              "    fill: var(--disabled-fill-color);\n",
              "    box-shadow: none;\n",
              "  }\n",
              "\n",
              "  .colab-df-spinner {\n",
              "    border: 2px solid var(--fill-color);\n",
              "    border-color: transparent;\n",
              "    border-bottom-color: var(--fill-color);\n",
              "    animation:\n",
              "      spin 1s steps(1) infinite;\n",
              "  }\n",
              "\n",
              "  @keyframes spin {\n",
              "    0% {\n",
              "      border-color: transparent;\n",
              "      border-bottom-color: var(--fill-color);\n",
              "      border-left-color: var(--fill-color);\n",
              "    }\n",
              "    20% {\n",
              "      border-color: transparent;\n",
              "      border-left-color: var(--fill-color);\n",
              "      border-top-color: var(--fill-color);\n",
              "    }\n",
              "    30% {\n",
              "      border-color: transparent;\n",
              "      border-left-color: var(--fill-color);\n",
              "      border-top-color: var(--fill-color);\n",
              "      border-right-color: var(--fill-color);\n",
              "    }\n",
              "    40% {\n",
              "      border-color: transparent;\n",
              "      border-right-color: var(--fill-color);\n",
              "      border-top-color: var(--fill-color);\n",
              "    }\n",
              "    60% {\n",
              "      border-color: transparent;\n",
              "      border-right-color: var(--fill-color);\n",
              "    }\n",
              "    80% {\n",
              "      border-color: transparent;\n",
              "      border-right-color: var(--fill-color);\n",
              "      border-bottom-color: var(--fill-color);\n",
              "    }\n",
              "    90% {\n",
              "      border-color: transparent;\n",
              "      border-bottom-color: var(--fill-color);\n",
              "    }\n",
              "  }\n",
              "</style>\n",
              "\n",
              "  <script>\n",
              "    async function quickchart(key) {\n",
              "      const quickchartButtonEl =\n",
              "        document.querySelector('#' + key + ' button');\n",
              "      quickchartButtonEl.disabled = true;  // To prevent multiple clicks.\n",
              "      quickchartButtonEl.classList.add('colab-df-spinner');\n",
              "      try {\n",
              "        const charts = await google.colab.kernel.invokeFunction(\n",
              "            'suggestCharts', [key], {});\n",
              "      } catch (error) {\n",
              "        console.error('Error during call to suggestCharts:', error);\n",
              "      }\n",
              "      quickchartButtonEl.classList.remove('colab-df-spinner');\n",
              "      quickchartButtonEl.classList.add('colab-df-quickchart-complete');\n",
              "    }\n",
              "    (() => {\n",
              "      let quickchartButtonEl =\n",
              "        document.querySelector('#df-e43bf116-16fe-4825-8d58-78a7320e8662 button');\n",
              "      quickchartButtonEl.style.display =\n",
              "        google.colab.kernel.accessAllowed ? 'block' : 'none';\n",
              "    })();\n",
              "  </script>\n",
              "</div>\n",
              "    </div>\n",
              "  </div>\n"
            ]
          },
          "metadata": {},
          "execution_count": 6
        }
      ]
    },
    {
      "cell_type": "markdown",
      "metadata": {
        "id": "olHSR6poID_w"
      },
      "source": [
        "Ploting everything we've got."
      ]
    },
    {
      "cell_type": "code",
      "metadata": {
        "colab": {
          "base_uri": "https://localhost:8080/",
          "height": 643
        },
        "id": "CfkhZhmCEyUe",
        "outputId": "0631e2d9-42c6-486c-d8aa-5de53add3c49"
      },
      "source": [
        "import matplotlib.pyplot as plt\n",
        "bitcoin_prices.plot(figsize=(10, 7))\n",
        "plt.ylabel(\"BTC Price\")\n",
        "plt.title(\"Price of Bitcoin from 1 Oct 2013 to 18 May 2021\", fontsize=16)\n",
        "plt.legend(fontsize=14);"
      ],
      "execution_count": 7,
      "outputs": [
        {
          "output_type": "display_data",
          "data": {
            "text/plain": [
              "<Figure size 1000x700 with 1 Axes>"
            ],
            "image/png": "[encoded data removed]"
          },
          "metadata": {}
        }
      ]
    },
    {
      "cell_type": "code",
      "source": [
        "# Importing and formatting historical Bitcoin data with Python\n",
        "import csv\n",
        "from datetime import datetime\n",
        "\n",
        "timesteps = []\n",
        "btc_price = []\n",
        "with open(\"/content/BTC_USD_2013-10-01_2021-05-18-CoinDesk.csv\", \"r\") as f:\n",
        "  csv_reader = csv.reader(f, delimiter=\",\") # read in the target CSV\n",
        "  next(csv_reader) # skip first line (this gets rid of the column titles)\n",
        "  for line in csv_reader:\n",
        "    timesteps.append(datetime.strptime(line[1], \"%Y-%m-%d\")) # get the dates as dates (not strings), strptime = string parse time\n",
        "    btc_price.append(float(line[2])) # get the closing price as float\n",
        "\n",
        "# View first 10 of each\n",
        "timesteps[:10], btc_price[:10]"
      ],
      "metadata": {
        "colab": {
          "base_uri": "https://localhost:8080/",
          "height": 0
        },
        "id": "5G-oxqZ-g_CD",
        "outputId": "901cb7ae-a6fb-4915-b47c-bbe9bbbac217"
      },
      "execution_count": 8,
      "outputs": [
        {
          "output_type": "execute_result",
          "data": {
            "text/plain": [
              "([datetime.datetime(2013, 10, 1, 0, 0),\n",
              "  datetime.datetime(2013, 10, 2, 0, 0),\n",
              "  datetime.datetime(2013, 10, 3, 0, 0),\n",
              "  datetime.datetime(2013, 10, 4, 0, 0),\n",
              "  datetime.datetime(2013, 10, 5, 0, 0),\n",
              "  datetime.datetime(2013, 10, 6, 0, 0),\n",
              "  datetime.datetime(2013, 10, 7, 0, 0),\n",
              "  datetime.datetime(2013, 10, 8, 0, 0),\n",
              "  datetime.datetime(2013, 10, 9, 0, 0),\n",
              "  datetime.datetime(2013, 10, 10, 0, 0)],\n",
              " [123.65499,\n",
              "  125.455,\n",
              "  108.58483,\n",
              "  118.67466,\n",
              "  121.33866,\n",
              "  120.65533,\n",
              "  121.795,\n",
              "  123.033,\n",
              "  124.049,\n",
              "  125.96116])"
            ]
          },
          "metadata": {},
          "execution_count": 8
        }
      ]
    },
    {
      "cell_type": "markdown",
      "metadata": {
        "id": "_nfP7i9R_dOp"
      },
      "source": [
        "## Format Data Part 1: Creating train and test sets for time series data\n",
        "\n",
        "Usually, you could create a train and test split using a function like Scikit-Learn's outstanding [`train_test_split()`] but as we'll see in a moment, this doesn't really cut it for time series data.\n"
      ]
    },
    {
      "cell_type": "markdown",
      "metadata": {
        "id": "prkQhgiHNOKd"
      },
      "source": [
        "### Create train & test sets for time series (the wrong way)\n",
        "\n",
        "How about we first see the *wrong way* for splitting time series data?"
      ]
    },
    {
      "cell_type": "code",
      "metadata": {
        "colab": {
          "base_uri": "https://localhost:8080/",
          "height": 0
        },
        "id": "wxQbuGVTRFKX",
        "outputId": "e70d2a5a-b85e-40ff-ea93-04b41777446e"
      },
      "source": [
        "# Get bitcoin date array\n",
        "timesteps = bitcoin_prices.index.to_numpy()\n",
        "prices = bitcoin_prices[\"Price\"].to_numpy()\n",
        "\n",
        "timesteps[:10], prices[:10]"
      ],
      "execution_count": 9,
      "outputs": [
        {
          "output_type": "execute_result",
          "data": {
            "text/plain": [
              "(array(['2013-10-01T00:00:00.000000000', '2013-10-02T00:00:00.000000000',\n",
              "        '2013-10-03T00:00:00.000000000', '2013-10-04T00:00:00.000000000',\n",
              "        '2013-10-05T00:00:00.000000000', '2013-10-06T00:00:00.000000000',\n",
              "        '2013-10-07T00:00:00.000000000', '2013-10-08T00:00:00.000000000',\n",
              "        '2013-10-09T00:00:00.000000000', '2013-10-10T00:00:00.000000000'],\n",
              "       dtype='datetime64[ns]'),\n",
              " array([123.65499, 125.455  , 108.58483, 118.67466, 121.33866, 120.65533,\n",
              "        121.795  , 123.033  , 124.049  , 125.96116]))"
            ]
          },
          "metadata": {},
          "execution_count": 9
        }
      ]
    },
    {
      "cell_type": "code",
      "metadata": {
        "colab": {
          "base_uri": "https://localhost:8080/",
          "height": 0
        },
        "id": "eGY7hTfyNLZ1",
        "outputId": "ed32bd93-ff5e-46e1-afd2-8809b43a2547"
      },
      "source": [
        "# Wrong way to make train/test sets for time series\n",
        "from sklearn.model_selection import train_test_split\n",
        "\n",
        "X_train, X_test, y_train, y_test = train_test_split(timesteps, # dates\n",
        "                                                    prices, # prices\n",
        "                                                    test_size=0.2,\n",
        "                                                    random_state=42)\n",
        "X_train.shape, X_test.shape, y_train.shape, y_test.shape"
      ],
      "execution_count": 10,
      "outputs": [
        {
          "output_type": "execute_result",
          "data": {
            "text/plain": [
              "((2229,), (558,), (2229,), (558,))"
            ]
          },
          "metadata": {},
          "execution_count": 10
        }
      ]
    },
    {
      "cell_type": "markdown",
      "metadata": {
        "id": "PJbMDz1stTxZ"
      },
      "source": [
        "Looks like the splits worked well, but let's not trust numbers on a page, let's visualize."
      ]
    },
    {
      "cell_type": "code",
      "metadata": {
        "colab": {
          "base_uri": "https://localhost:8080/",
          "height": 619
        },
        "id": "cvH_0RvSNLWm",
        "outputId": "7c0a1625-c98f-4683-8ca1-e06f13d2d23a"
      },
      "source": [
        "# Let's plot wrong train and test splits\n",
        "plt.figure(figsize=(10, 7))\n",
        "plt.scatter(X_train, y_train, s=5, label=\"Train data\")\n",
        "plt.scatter(X_test, y_test, s=5, label=\"Test data\")\n",
        "plt.xlabel(\"Date\")\n",
        "plt.ylabel(\"BTC Price\")\n",
        "plt.legend(fontsize=14)\n",
        "plt.show();"
      ],
      "execution_count": 11,
      "outputs": [
        {
          "output_type": "display_data",
          "data": {
            "text/plain": [
              "<Figure size 1000x700 with 1 Axes>"
            ],
            "image/png": "[encoded data removed]"
          },
          "metadata": {}
        }
      ]
    },
    {
      "cell_type": "markdown",
      "metadata": {
        "id": "ajoASBK2size"
      },
      "source": [
        "### Create train & test sets for time series (the right way)\n",
        "To do this, I will create an abitrary point in time to split our data.\n",
        "\n",
        "Everything before the point in time can be considered the training set and everything after the point in time can be considered the test set."
      ]
    },
    {
      "cell_type": "code",
      "metadata": {
        "colab": {
          "base_uri": "https://localhost:8080/",
          "height": 0
        },
        "id": "lpEVKyXANLT4",
        "outputId": "05685fff-4c08-4f6f-f0d0-79b1f6ee4df3"
      },
      "source": [
        "# Create train and test splits the right way for time series data\n",
        "split_size = int(0.8 * len(prices)) # 80% train, 20% test\n",
        "\n",
        "# Create train data splits (everything before the split)\n",
        "X_train, y_train = timesteps[:split_size], prices[:split_size]\n",
        "\n",
        "# Create test data splits (everything after the split)\n",
        "X_test, y_test = timesteps[split_size:], prices[split_size:]\n",
        "\n",
        "len(X_train), len(X_test), len(y_train), len(y_test)"
      ],
      "execution_count": 12,
      "outputs": [
        {
          "output_type": "execute_result",
          "data": {
            "text/plain": [
              "(2229, 558, 2229, 558)"
            ]
          },
          "metadata": {},
          "execution_count": 12
        }
      ]
    },
    {
      "cell_type": "code",
      "metadata": {
        "colab": {
          "base_uri": "https://localhost:8080/",
          "height": 619
        },
        "id": "L9QImNlhOQuS",
        "outputId": "35e1440b-2e96-4157-9a87-804d3e905185"
      },
      "source": [
        "# Plot correctly made splits\n",
        "plt.figure(figsize=(10, 7))\n",
        "plt.scatter(X_train, y_train, s=5, label=\"Train data\")\n",
        "plt.scatter(X_test, y_test, s=5, label=\"Test data\")\n",
        "plt.xlabel(\"Date\")\n",
        "plt.ylabel(\"BTC Price\")\n",
        "plt.legend(fontsize=14)\n",
        "plt.show();"
      ],
      "execution_count": 13,
      "outputs": [
        {
          "output_type": "display_data",
          "data": {
            "text/plain": [
              "<Figure size 1000x700 with 1 Axes>"
            ],
            "image/png": "[encoded data removed]"
          },
          "metadata": {}
        }
      ]
    },
    {
      "cell_type": "markdown",
      "metadata": {
        "id": "tmp1pSbaunlf"
      },
      "source": [
        "We're going to be using the training set (past) to train a model to try and predict values on the test set (future)."
      ]
    },
    {
      "cell_type": "markdown",
      "metadata": {
        "id": "sGUelYVKCybB"
      },
      "source": [
        "### Create a plotting function\n",
        "\n",
        "Rather than retyping `matplotlib` commands to continuously plot data, let's make a plotting function we can reuse later."
      ]
    },
    {
      "cell_type": "code",
      "metadata": {
        "id": "trkvizA0C6vc"
      },
      "source": [
        "# Create a function to plot time series data\n",
        "def plot_time_series(timesteps, values, format='.', start=0, end=None, label=None):\n",
        "  # Plot the series\n",
        "  plt.plot(timesteps[start:end], values[start:end], format, label=label)\n",
        "  plt.xlabel(\"Time\")\n",
        "  plt.ylabel(\"BTC Price\")\n",
        "  if label:\n",
        "    plt.legend(fontsize=14) # make label bigger\n",
        "  plt.grid(True)"
      ],
      "execution_count": 14,
      "outputs": []
    },
    {
      "cell_type": "code",
      "metadata": {
        "colab": {
          "base_uri": "https://localhost:8080/",
          "height": 619
        },
        "id": "6TyFY1cGC_sw",
        "outputId": "21025a0d-6ecd-4db6-9bd9-eeba9567b45d"
      },
      "source": [
        "# Try out our plotting function\n",
        "plt.figure(figsize=(10, 7))\n",
        "plot_time_series(timesteps=X_train, values=y_train, label=\"Train data\")\n",
        "plot_time_series(timesteps=X_test, values=y_test, label=\"Test data\")"
      ],
      "execution_count": 15,
      "outputs": [
        {
          "output_type": "display_data",
          "data": {
            "text/plain": [
              "<Figure size 1000x700 with 1 Axes>"
            ],
            "image/png": "[encoded data removed]"
          },
          "metadata": {}
        }
      ]
    },
    {
      "cell_type": "markdown",
      "metadata": {
        "id": "SDeel1jj8ioU"
      },
      "source": [
        "Time for some modelling experiments."
      ]
    },
    {
      "cell_type": "markdown",
      "metadata": {
        "id": "cwSpQQRl_dHb"
      },
      "source": [
        "## Modelling Experiments\n",
        "\n",
        "  * **horizon** = number of timesteps to predict into future\n",
        "  * **window** = number of timesteps from past used to predict **horizon**\n",
        "\n",
        "For example, if we wanted to predict the price of Bitcoin for tomorrow (1 day in the future) using the previous week's worth of Bitcoin prices (7 days in the past), the horizon would be 1 and the window would be 7.\n",
        "\n",
        "Now, how about those modelling experiments?\n",
        "\n",
        "| Model Number | Model Type | Horizon size | Window size | Extra data |\n",
        "| ----- | ----- | ----- | ----- | ----- |\n",
        "| 0 | Naïve model (baseline) | NA | NA | NA |\n",
        "| 1 | Dense model | 1 | 7 | NA |\n",
        "| 2 | Same as 1 | 1 | 30 | NA |\n",
        "| 3 | Same as 1 | 7 | 30 | NA |\n",
        "| 4 | Conv1D | 1 | 7 | NA |\n",
        "| 5 | LSTM | 1 | 7 | NA |"
      ]
    },
    {
      "cell_type": "markdown",
      "metadata": {
        "id": "JO1YAv7w_dE7"
      },
      "source": [
        "## Model 0: Naïve forecast (baseline)\n",
        "Naïve model uses the previous timestep value to predict the next timestep value.\n",
        "\n",
        "The formula looks like this:\n",
        "\n",
        "$$\\hat{y}_{t} = y_{t-1}$$"
      ]
    },
    {
      "cell_type": "code",
      "metadata": {
        "colab": {
          "base_uri": "https://localhost:8080/",
          "height": 0
        },
        "id": "nCKGUO4OVos9",
        "outputId": "6626b6e8-1286-4e10-8267-d012872be056"
      },
      "source": [
        "# Create a naïve forecast\n",
        "naive_forecast = y_test[:-1] # Naïve forecast equals every value excluding the last value\n",
        "naive_forecast[:10], naive_forecast[-10:] # View frist 10 and last 10"
      ],
      "execution_count": 16,
      "outputs": [
        {
          "output_type": "execute_result",
          "data": {
            "text/plain": [
              "(array([9226.48582088, 8794.35864452, 8798.04205463, 9081.18687849,\n",
              "        8711.53433917, 8760.89271814, 8749.52059102, 8656.97092235,\n",
              "        8500.64355816, 8469.2608989 ]),\n",
              " array([57107.12067189, 58788.20967893, 58102.19142623, 55715.54665129,\n",
              "        56573.5554719 , 52147.82118698, 49764.1320816 , 50032.69313676,\n",
              "        47885.62525472, 45604.61575361]))"
            ]
          },
          "metadata": {},
          "execution_count": 16
        }
      ]
    },
    {
      "cell_type": "code",
      "metadata": {
        "colab": {
          "base_uri": "https://localhost:8080/",
          "height": 619
        },
        "id": "a0NLHXDhWDX-",
        "outputId": "fcbd4942-e53f-4b63-c7fb-a38b6450052f"
      },
      "source": [
        "# Plot naive forecast\n",
        "plt.figure(figsize=(10, 7))\n",
        "plot_time_series(timesteps=X_train, values=y_train, label=\"Train data\")\n",
        "plot_time_series(timesteps=X_test, values=y_test, label=\"Test data\")\n",
        "plot_time_series(timesteps=X_test[1:], values=naive_forecast, format=\"-\", label=\"Naive forecast\");"
      ],
      "execution_count": 17,
      "outputs": [
        {
          "output_type": "display_data",
          "data": {
            "text/plain": [
              "<Figure size 1000x700 with 1 Axes>"
            ],
            "image/png": "[encoded data removed]"
          },
          "metadata": {}
        }
      ]
    },
    {
      "cell_type": "code",
      "metadata": {
        "id": "dx0wUhtOW_VX"
      },
      "source": [
        "offset = 300 # offset the values by 300 timesteps\n"
      ],
      "execution_count": 18,
      "outputs": []
    },
    {
      "cell_type": "code",
      "metadata": {
        "id": "ljaO69huYCZD"
      },
      "source": [
        "# Let's get TensorFlow!\n",
        "import tensorflow as tf"
      ],
      "execution_count": 19,
      "outputs": []
    },
    {
      "cell_type": "code",
      "metadata": {
        "id": "2jbLBJ_IGjla"
      },
      "source": [
        "def mean_absolute_scaled_error(y_true, y_pred):\n",
        "  mae = tf.reduce_mean(tf.abs(y_true - y_pred))\n",
        "  # Find MAE of naive forecast (no seasonality)\n",
        "  mae_naive_no_season = tf.reduce_mean(tf.abs(y_true[1:] - y_true[:-1])) # our seasonality is 1 day (hence the shifting of 1 day)\n",
        "  return mae / mae_naive_no_season"
      ],
      "execution_count": 20,
      "outputs": []
    },
    {
      "cell_type": "markdown",
      "metadata": {
        "id": "yD4P7-wwUVWj"
      },
      "source": [
        "In our case, we're comparing the MAE of our predictions on the test to the MAE of the naïve forecast on the test set.\n",
        "In practice, if we've created the function correctly, the naïve model should achieve an MASE of 1 (or very close to 1). Any model worse than the naïve forecast will achieve an **MASE of >1** and any model better than the naïve forecast will achieve an **MASE of <1**."
      ]
    },
    {
      "cell_type": "code",
      "metadata": {
        "id": "MwMeVgRXWaJp"
      },
      "source": [
        "def evaluate_preds(y_true, y_pred):\n",
        "  # Make sure float32 (for metric calculations)\n",
        "  y_true = tf.cast(y_true, dtype=tf.float32)\n",
        "  y_pred = tf.cast(y_pred, dtype=tf.float32)\n",
        "  # Calculate various metrics\n",
        "  mae = tf.keras.metrics.mean_absolute_error(y_true, y_pred)\n",
        "  mse = tf.keras.metrics.mean_squared_error(y_true, y_pred) # puts and emphasis on outliers (all errors get squared)\n",
        "  rmse = tf.sqrt(mse)\n",
        "  mape = tf.keras.metrics.mean_absolute_percentage_error(y_true, y_pred)\n",
        "  mase = mean_absolute_scaled_error(y_true, y_pred)\n",
        "  return {\"mae\": mae.numpy(),\n",
        "          \"mse\": mse.numpy(),\n",
        "          \"rmse\": rmse.numpy(),\n",
        "          \"mape\": mape.numpy(),\n",
        "          \"mase\": mase.numpy()}"
      ],
      "execution_count": 21,
      "outputs": []
    },
    {
      "cell_type": "code",
      "metadata": {
        "colab": {
          "base_uri": "https://localhost:8080/",
          "height": 0
        },
        "id": "HbJlsvUwYEsf",
        "outputId": "07d337d8-cb6a-43f2-b0c1-19485a0f9f71"
      },
      "source": [
        "naive_results = evaluate_preds(y_true=y_test[1:],\n",
        "                               y_pred=naive_forecast)\n",
        "naive_results"
      ],
      "execution_count": 22,
      "outputs": [
        {
          "output_type": "execute_result",
          "data": {
            "text/plain": [
              "{'mae': 567.9802,\n",
              " 'mse': 1147547.0,\n",
              " 'rmse': 1071.2362,\n",
              " 'mape': 2.516525,\n",
              " 'mase': 0.99957}"
            ]
          },
          "metadata": {},
          "execution_count": 22
        }
      ]
    },
    {
      "cell_type": "markdown",
      "metadata": {
        "id": "0bXUPHswVSjp"
      },
      "source": [
        "Taking a look at the naïve forecast's MAE, it seems on average each forecast is ~$567 different than the actual Bitcoin price.\n",
        "\n",
        "How does this compare to the average price of Bitcoin in the test dataset?"
      ]
    },
    {
      "cell_type": "code",
      "metadata": {
        "id": "Yjl-X9QLVhp1",
        "colab": {
          "base_uri": "https://localhost:8080/",
          "height": 0
        },
        "outputId": "d33a28f5-8cd7-4a73-accc-8a1e0584834c"
      },
      "source": [
        "# Find average price of Bitcoin in test dataset\n",
        "tf.reduce_mean(y_test).numpy()"
      ],
      "execution_count": 23,
      "outputs": [
        {
          "output_type": "execute_result",
          "data": {
            "text/plain": [
              "20056.632963737222"
            ]
          },
          "metadata": {},
          "execution_count": 23
        }
      ]
    },
    {
      "cell_type": "markdown",
      "metadata": {
        "id": "RpEk5iOZWD1o"
      },
      "source": [
        "Okay, looking at these two values is starting to give us an idea of how our model is performing:\n",
        "* The average price of Bitcoin in the test dataset is: $20,056 (note: average may not be the best measure here, since the highest price is over 3x this value and the lowest price is over 4x lower)\n",
        "\n",
        "* Each prediction in naive forecast is on average off by: $567\n"
      ]
    },
    {
      "cell_type": "markdown",
      "metadata": {
        "id": "e8AzwUvjBkgY"
      },
      "source": [
        "## Format Data Part 2: Windowing dataset\n",
        "I will use windows of the past to predict the future.\n",
        "\n",
        "For example for a univariate time series, windowing for one week (`window=7`) to predict the next single value (`horizon=1`) might look like:\n",
        "\n",
        "```\n",
        "Window for one week (univariate time series)\n",
        "\n",
        "[0, 1, 2, 3, 4, 5, 6] -> [7]\n",
        "[1, 2, 3, 4, 5, 6, 7] -> [8]\n",
        "[2, 3, 4, 5, 6, 7, 8] -> [9]\n",
        "```\n",
        "We'll start with the default horizon size of 1 and a window size of 7 (these aren't necessarily the best values to use, I've just picked them)."
      ]
    },
    {
      "cell_type": "code",
      "metadata": {
        "id": "LibzWQXM2ib-"
      },
      "source": [
        "HORIZON = 1 # predict 1 step at a time\n",
        "WINDOW_SIZE = 7 # use a week worth of timesteps to predict the horizon"
      ],
      "execution_count": 24,
      "outputs": []
    },
    {
      "cell_type": "markdown",
      "metadata": {
        "id": "1AQ0HWWzfRW_"
      },
      "source": [
        "Now we'll write a function to take in an array and turn it into a window and horizon."
      ]
    },
    {
      "cell_type": "code",
      "metadata": {
        "id": "zV8pv5K_x81E"
      },
      "source": [
        "# Create function to label windowed data\n",
        "def get_labelled_windows(x, horizon=1):\n",
        "  \"\"\"\n",
        "  Creates labels for windowed dataset.\n",
        "\n",
        "  E.g. if horizon=1 (default)\n",
        "  Input: [1, 2, 3, 4, 5, 6] -> Output: ([1, 2, 3, 4, 5], [6])\n",
        "  \"\"\"\n",
        "  return x[:, :-horizon], x[:, -horizon:]"
      ],
      "execution_count": 25,
      "outputs": []
    },
    {
      "cell_type": "code",
      "metadata": {
        "id": "ejJ9vCyKff8F",
        "colab": {
          "base_uri": "https://localhost:8080/",
          "height": 0
        },
        "outputId": "578cc58b-3dbd-464c-a496-4e2c78df9c53"
      },
      "source": [
        " # Test out the window labelling function\n",
        "test_window, test_label = get_labelled_windows(tf.expand_dims(tf.range(8)+1, axis=0), horizon=HORIZON)\n",
        "print(f\"Window: {tf.squeeze(test_window).numpy()} -> Label: {tf.squeeze(test_label).numpy()}\")"
      ],
      "execution_count": 26,
      "outputs": [
        {
          "output_type": "stream",
          "name": "stdout",
          "text": [
            "Window: [1 2 3 4 5 6 7] -> Label: 8\n"
          ]
        }
      ]
    },
    {
      "cell_type": "markdown",
      "metadata": {
        "id": "qc4U4ExKfx6S"
      },
      "source": [
        "We need a way to make windows for an entire time series.\n",
        "\n",
        "We could do this with Python for loops, however, for large time series, that'd be quite slow.\n",
        "\n",
        "Let's write a function which:\n",
        "1. Creates a window step of specific window size, for example: `[[0, 1, 2, 3, 4, 5, 6, 7]]`\n",
        "2. Uses NumPy indexing to create a 2D of multiple window steps, for example:\n",
        "```\n",
        "[[0, 1, 2, 3, 4, 5, 6, 7],\n",
        " [1, 2, 3, 4, 5, 6, 7, 8],\n",
        " [2, 3, 4, 5, 6, 7, 8, 9]]\n",
        "```\n",
        "3. Uses the 2D array of multuple window steps to index on a target series\n",
        "4. Uses the `get_labelled_windows()` function we created above to turn the window steps into windows with a specified horizon."
      ]
    },
    {
      "cell_type": "code",
      "metadata": {
        "id": "apea0wiJyCI6"
      },
      "source": [
        "# Create function to view NumPy arrays as windows\n",
        "def make_windows(x, window_size=7, horizon=1):\n",
        "  \"\"\"\n",
        "  Turns a 1D array into a 2D array of sequential windows of window_size.\n",
        "  \"\"\"\n",
        "  # 1. Create a window of specific window_size (add the horizon on the end for later labelling)\n",
        "  window_step = np.expand_dims(np.arange(window_size+horizon), axis=0)\n",
        "  # print(f\"Window step:\\n {window_step}\")\n",
        "\n",
        "  # 2. Create a 2D array of multiple window steps (minus 1 to account for 0 indexing)\n",
        "  window_indexes = window_step + np.expand_dims(np.arange(len(x)-(window_size+horizon-1)), axis=0).T # create 2D array of windows of size window_size\n",
        "  # print(f\"Window indexes:\\n {window_indexes[:3], window_indexes[-3:], window_indexes.shape}\")\n",
        "\n",
        "  # 3. Index on the target array (time series) with 2D array of multiple window steps\n",
        "  windowed_array = x[window_indexes]\n",
        "\n",
        "  # 4. Get the labelled windows\n",
        "  windows, labels = get_labelled_windows(windowed_array, horizon=horizon)\n",
        "\n",
        "  return windows, labels"
      ],
      "execution_count": 27,
      "outputs": []
    },
    {
      "cell_type": "code",
      "metadata": {
        "id": "u7Yc3V7fc1UG",
        "colab": {
          "base_uri": "https://localhost:8080/",
          "height": 0
        },
        "outputId": "8f8498db-b3a3-4277-bfd9-6439eed213b8"
      },
      "source": [
        "full_windows, full_labels = make_windows(prices, window_size=WINDOW_SIZE, horizon=HORIZON)\n",
        "len(full_windows), len(full_labels)"
      ],
      "execution_count": 28,
      "outputs": [
        {
          "output_type": "execute_result",
          "data": {
            "text/plain": [
              "(2780, 2780)"
            ]
          },
          "metadata": {},
          "execution_count": 28
        }
      ]
    },
    {
      "cell_type": "code",
      "metadata": {
        "id": "U1P-MT4CkYta",
        "colab": {
          "base_uri": "https://localhost:8080/",
          "height": 0
        },
        "outputId": "5ecc4bca-9f68-4dd2-d083-0bb018b1f091"
      },
      "source": [
        "# View the first 3 windows/labels\n",
        "for i in range(3):\n",
        "  print(f\"Window: {full_windows[i]} -> Label: {full_labels[i]}\")"
      ],
      "execution_count": 29,
      "outputs": [
        {
          "output_type": "stream",
          "name": "stdout",
          "text": [
            "Window: [123.65499 125.455   108.58483 118.67466 121.33866 120.65533 121.795  ] -> Label: [123.033]\n",
            "Window: [125.455   108.58483 118.67466 121.33866 120.65533 121.795   123.033  ] -> Label: [124.049]\n",
            "Window: [108.58483 118.67466 121.33866 120.65533 121.795   123.033   124.049  ] -> Label: [125.96116]\n"
          ]
        }
      ]
    },
    {
      "cell_type": "code",
      "metadata": {
        "id": "UCDtm6gskjRH",
        "colab": {
          "base_uri": "https://localhost:8080/",
          "height": 0
        },
        "outputId": "f28d943d-185a-46a2-bd30-e5c19b2ca82b"
      },
      "source": [
        "# View the last 3 windows/labels\n",
        "for i in range(3):\n",
        "  print(f\"Window: {full_windows[i-3]} -> Label: {full_labels[i-3]}\")"
      ],
      "execution_count": 30,
      "outputs": [
        {
          "output_type": "stream",
          "name": "stdout",
          "text": [
            "Window: [58788.20967893 58102.19142623 55715.54665129 56573.5554719\n",
            " 52147.82118698 49764.1320816  50032.69313676] -> Label: [47885.62525472]\n",
            "Window: [58102.19142623 55715.54665129 56573.5554719  52147.82118698\n",
            " 49764.1320816  50032.69313676 47885.62525472] -> Label: [45604.61575361]\n",
            "Window: [55715.54665129 56573.5554719  52147.82118698 49764.1320816\n",
            " 50032.69313676 47885.62525472 45604.61575361] -> Label: [43144.47129086]\n"
          ]
        }
      ]
    },
    {
      "cell_type": "markdown",
      "metadata": {
        "id": "exTivzXvgbmb"
      },
      "source": [
        "## Turning windows into training and test sets\n",
        "\n",
        "Time to turn our windows into training and test splits.\n",
        "Let's write a function which takes in full sets of windows and their labels and splits them into train and test splits."
      ]
    },
    {
      "cell_type": "code",
      "metadata": {
        "id": "o_8BRgb8YtP3"
      },
      "source": [
        "# Make the train/test splits\n",
        "def make_train_test_splits(windows, labels, test_split=0.2):\n",
        "  \"\"\"\n",
        "  Splits matching pairs of windows and labels into train and test splits.\n",
        "  \"\"\"\n",
        "  split_size = int(len(windows) * (1-test_split)) # this will default to 80% train/20% test\n",
        "  train_windows = windows[:split_size]\n",
        "  train_labels = labels[:split_size]\n",
        "  test_windows = windows[split_size:]\n",
        "  test_labels = labels[split_size:]\n",
        "  return train_windows, test_windows, train_labels, test_labels"
      ],
      "execution_count": 31,
      "outputs": []
    },
    {
      "cell_type": "code",
      "metadata": {
        "id": "z_xY8T7HEaoU",
        "colab": {
          "base_uri": "https://localhost:8080/",
          "height": 0
        },
        "outputId": "70e1f78b-f992-4d33-a251-c0c9325ea014"
      },
      "source": [
        "train_windows, test_windows, train_labels, test_labels = make_train_test_splits(full_windows, full_labels)\n",
        "len(train_windows), len(test_windows), len(train_labels), len(test_labels)"
      ],
      "execution_count": 32,
      "outputs": [
        {
          "output_type": "execute_result",
          "data": {
            "text/plain": [
              "(2224, 556, 2224, 556)"
            ]
          },
          "metadata": {},
          "execution_count": 32
        }
      ]
    },
    {
      "cell_type": "markdown",
      "metadata": {
        "id": "75_YBwiedI2s"
      },
      "source": [
        "Notice the default split of 80% training data and 20% testing data (this split can be adjusted if needed).\n",
        "\n",
        "First 5 samples of the training windows and labels looks."
      ]
    },
    {
      "cell_type": "code",
      "metadata": {
        "id": "DDgyT7Gix1fH",
        "colab": {
          "base_uri": "https://localhost:8080/",
          "height": 0
        },
        "outputId": "1ffafdfa-8611-46ea-a25b-b3f301231e0c"
      },
      "source": [
        "train_windows[:5], train_labels[:5]"
      ],
      "execution_count": 33,
      "outputs": [
        {
          "output_type": "execute_result",
          "data": {
            "text/plain": [
              "(array([[123.65499, 125.455  , 108.58483, 118.67466, 121.33866, 120.65533,\n",
              "         121.795  ],\n",
              "        [125.455  , 108.58483, 118.67466, 121.33866, 120.65533, 121.795  ,\n",
              "         123.033  ],\n",
              "        [108.58483, 118.67466, 121.33866, 120.65533, 121.795  , 123.033  ,\n",
              "         124.049  ],\n",
              "        [118.67466, 121.33866, 120.65533, 121.795  , 123.033  , 124.049  ,\n",
              "         125.96116],\n",
              "        [121.33866, 120.65533, 121.795  , 123.033  , 124.049  , 125.96116,\n",
              "         125.27966]]),\n",
              " array([[123.033  ],\n",
              "        [124.049  ],\n",
              "        [125.96116],\n",
              "        [125.27966],\n",
              "        [125.9275 ]]))"
            ]
          },
          "metadata": {},
          "execution_count": 33
        }
      ]
    },
    {
      "cell_type": "code",
      "metadata": {
        "id": "TkF0HmvadHBB",
        "colab": {
          "base_uri": "https://localhost:8080/",
          "height": 0
        },
        "outputId": "2c022e62-1a5d-462f-b75e-b0951da29298"
      },
      "source": [
        "# Check to see if same (accounting for horizon and window size)\n",
        "np.array_equal(np.squeeze(train_labels[:-HORIZON-1]), y_train[WINDOW_SIZE:])"
      ],
      "execution_count": 34,
      "outputs": [
        {
          "output_type": "execute_result",
          "data": {
            "text/plain": [
              "True"
            ]
          },
          "metadata": {},
          "execution_count": 34
        }
      ]
    },
    {
      "cell_type": "markdown",
      "metadata": {
        "id": "PQX0PF5jV4aq"
      },
      "source": [
        "## Make a modelling checkpoint\n",
        "We want to compare each model's best performance against each model's best performance.\n",
        "\n",
        "For example, if `model_1` performed incredibly well on epoch 55 but its performance fell off toward epoch 100, we want the version of the model from epoch 55 to compare to other models rather than the version of the model from epoch 100."
      ]
    },
    {
      "cell_type": "code",
      "metadata": {
        "id": "Xh8i1f7rV_P2"
      },
      "source": [
        "import os\n",
        "\n",
        "# Create a function to implement a ModelCheckpoint callback with a specific filename\n",
        "def create_model_checkpoint(model_name, save_path=\"model_experiments\"):\n",
        "  return tf.keras.callbacks.ModelCheckpoint(filepath=os.path.join(save_path, model_name), # create filepath to save model\n",
        "                                            verbose=0, # only output a limited amount of text\n",
        "                                            save_best_only=True) # save only the best model to file"
      ],
      "execution_count": 35,
      "outputs": []
    },
    {
      "cell_type": "markdown",
      "metadata": {
        "id": "j5uw1AaVY-J9"
      },
      "source": [
        "## Model 1: Dense model (window = 7, horizon = 1)\n",
        "\n",
        "Model_1 will have:\n",
        "* A single dense layer with 128 hidden units and ReLU (rectified linear unit) activation\n",
        "* An output layer with linear activation (or no activation)\n",
        "* Adam optimizer and MAE loss function\n",
        "* Batch size of 128\n",
        "* 100 epochs"
      ]
    },
    {
      "cell_type": "code",
      "metadata": {
        "id": "Slr5hrJHY_Ed",
        "colab": {
          "base_uri": "https://localhost:8080/",
          "height": 0
        },
        "outputId": "a8cb12cb-a333-4f6a-8193-18db1396ecfb"
      },
      "source": [
        "import tensorflow as tf\n",
        "from tensorflow.keras import layers\n",
        "\n",
        "# Set random seed for as reproducible results as possible\n",
        "tf.random.set_seed(42)\n",
        "\n",
        "# Construct model\n",
        "model_1 = tf.keras.Sequential([\n",
        "  layers.Dense(128, activation=\"relu\"),\n",
        "  layers.Dense(HORIZON, activation=\"linear\") # linear activation is the same as having no activation\n",
        "], name=\"model_1_dense\") # give the model a name so we can save it\n",
        "\n",
        "# Compile model\n",
        "model_1.compile(loss=\"mae\",\n",
        "                optimizer=tf.keras.optimizers.Adam(),\n",
        "                metrics=[\"mae\"]) # we don't necessarily need this when the loss function is already MAE\n",
        "\n",
        "# Fit model\n",
        "model_1.fit(x=train_windows, # train windows of 7 timesteps of Bitcoin prices\n",
        "            y=train_labels, # horizon value of 1 (using the previous 7 timesteps to predict next day)\n",
        "            epochs=100,\n",
        "            verbose=1,\n",
        "            batch_size=128,\n",
        "            validation_data=(test_windows, test_labels),\n",
        "            callbacks=[create_model_checkpoint(model_name=model_1.name)]) # create ModelCheckpoint callback to save best model"
      ],
      "execution_count": 36,
      "outputs": [
        {
          "output_type": "stream",
          "name": "stdout",
          "text": [
            "Epoch 1/100\n",
            "18/18 [==============================] - 5s 79ms/step - loss: 1373.0031 - mae: 1373.0031 - val_loss: 2830.7107 - val_mae: 2830.7107\n",
            "Epoch 2/100\n",
            "18/18 [==============================] - 1s 51ms/step - loss: 338.3409 - mae: 338.3409 - val_loss: 1332.5607 - val_mae: 1332.5607\n",
            "Epoch 3/100\n",
            "18/18 [==============================] - 1s 41ms/step - loss: 185.9249 - mae: 185.9249 - val_loss: 1087.8505 - val_mae: 1087.8505\n",
            "Epoch 4/100\n",
            "18/18 [==============================] - 1s 48ms/step - loss: 165.4816 - mae: 165.4816 - val_loss: 856.3018 - val_mae: 856.3018\n",
            "Epoch 5/100\n",
            "18/18 [==============================] - 1s 57ms/step - loss: 153.4832 - mae: 153.4832 - val_loss: 844.6950 - val_mae: 844.6950\n",
            "Epoch 6/100\n",
            "18/18 [==============================] - 1s 57ms/step - loss: 152.1811 - mae: 152.1811 - val_loss: 818.7286 - val_mae: 818.7286\n",
            "Epoch 7/100\n",
            "18/18 [==============================] - 1s 59ms/step - loss: 146.3958 - mae: 146.3958 - val_loss: 784.1586 - val_mae: 784.1586\n",
            "Epoch 8/100\n",
            "18/18 [==============================] - 1s 51ms/step - loss: 141.6947 - mae: 141.6947 - val_loss: 771.4726 - val_mae: 771.4726\n",
            "Epoch 9/100\n",
            "18/18 [==============================] - 0s 13ms/step - loss: 142.0410 - mae: 142.0410 - val_loss: 777.4401 - val_mae: 777.4401\n",
            "Epoch 10/100\n",
            "18/18 [==============================] - 1s 43ms/step - loss: 137.4896 - mae: 137.4896 - val_loss: 735.1404 - val_mae: 735.1404\n",
            "Epoch 11/100\n",
            "18/18 [==============================] - 0s 12ms/step - loss: 131.9290 - mae: 131.9290 - val_loss: 756.7115 - val_mae: 756.7115\n",
            "Epoch 12/100\n",
            "18/18 [==============================] - 0s 15ms/step - loss: 132.1655 - mae: 132.1655 - val_loss: 845.0649 - val_mae: 845.0649\n",
            "Epoch 13/100\n",
            "18/18 [==============================] - 0s 18ms/step - loss: 136.6135 - mae: 136.6135 - val_loss: 779.6294 - val_mae: 779.6294\n",
            "Epoch 14/100\n",
            "18/18 [==============================] - 0s 17ms/step - loss: 128.6354 - mae: 128.6354 - val_loss: 745.0207 - val_mae: 745.0207\n",
            "Epoch 15/100\n",
            "18/18 [==============================] - 2s 132ms/step - loss: 128.2917 - mae: 128.2917 - val_loss: 677.0192 - val_mae: 677.0192\n",
            "Epoch 16/100\n",
            "18/18 [==============================] - 0s 9ms/step - loss: 124.0107 - mae: 124.0107 - val_loss: 698.0240 - val_mae: 698.0240\n",
            "Epoch 17/100\n",
            "18/18 [==============================] - 0s 11ms/step - loss: 122.6032 - mae: 122.6032 - val_loss: 692.2283 - val_mae: 692.2283\n",
            "Epoch 18/100\n",
            "18/18 [==============================] - 1s 47ms/step - loss: 121.8624 - mae: 121.8624 - val_loss: 658.5948 - val_mae: 658.5948\n",
            "Epoch 19/100\n",
            "18/18 [==============================] - 0s 10ms/step - loss: 121.8562 - mae: 121.8562 - val_loss: 694.1276 - val_mae: 694.1276\n",
            "Epoch 20/100\n",
            "18/18 [==============================] - 1s 44ms/step - loss: 118.9610 - mae: 118.9610 - val_loss: 641.3559 - val_mae: 641.3559\n",
            "Epoch 21/100\n",
            "18/18 [==============================] - 1s 50ms/step - loss: 121.8636 - mae: 121.8636 - val_loss: 637.6310 - val_mae: 637.6310\n",
            "Epoch 22/100\n",
            "18/18 [==============================] - 0s 12ms/step - loss: 120.7209 - mae: 120.7209 - val_loss: 679.5666 - val_mae: 679.5666\n",
            "Epoch 23/100\n",
            "18/18 [==============================] - 1s 63ms/step - loss: 123.0307 - mae: 123.0307 - val_loss: 635.7094 - val_mae: 635.7094\n",
            "Epoch 24/100\n",
            "18/18 [==============================] - 1s 47ms/step - loss: 117.7862 - mae: 117.7862 - val_loss: 622.6552 - val_mae: 622.6552\n",
            "Epoch 25/100\n",
            "18/18 [==============================] - 1s 58ms/step - loss: 116.2149 - mae: 116.2149 - val_loss: 617.1577 - val_mae: 617.1577\n",
            "Epoch 26/100\n",
            "18/18 [==============================] - 1s 42ms/step - loss: 116.5673 - mae: 116.5673 - val_loss: 615.4326 - val_mae: 615.4326\n",
            "Epoch 27/100\n",
            "18/18 [==============================] - 0s 7ms/step - loss: 119.1350 - mae: 119.1350 - val_loss: 622.1047 - val_mae: 622.1047\n",
            "Epoch 28/100\n",
            "18/18 [==============================] - 1s 74ms/step - loss: 114.4479 - mae: 114.4479 - val_loss: 606.9057 - val_mae: 606.9057\n",
            "Epoch 29/100\n",
            "18/18 [==============================] - 0s 11ms/step - loss: 113.4797 - mae: 113.4797 - val_loss: 611.6942 - val_mae: 611.6942\n",
            "Epoch 30/100\n",
            "18/18 [==============================] - 1s 55ms/step - loss: 117.5231 - mae: 117.5231 - val_loss: 604.1651 - val_mae: 604.1651\n",
            "Epoch 31/100\n",
            "18/18 [==============================] - 0s 10ms/step - loss: 115.6502 - mae: 115.6502 - val_loss: 652.7267 - val_mae: 652.7267\n",
            "Epoch 32/100\n",
            "18/18 [==============================] - 1s 38ms/step - loss: 113.7222 - mae: 113.7222 - val_loss: 599.3512 - val_mae: 599.3512\n",
            "Epoch 33/100\n",
            "18/18 [==============================] - 0s 7ms/step - loss: 111.9681 - mae: 111.9681 - val_loss: 630.4280 - val_mae: 630.4280\n",
            "Epoch 34/100\n",
            "18/18 [==============================] - 0s 7ms/step - loss: 112.0024 - mae: 112.0024 - val_loss: 620.0202 - val_mae: 620.0202\n",
            "Epoch 35/100\n",
            "18/18 [==============================] - 0s 6ms/step - loss: 112.4371 - mae: 112.4371 - val_loss: 605.8840 - val_mae: 605.8840\n",
            "Epoch 36/100\n",
            "18/18 [==============================] - 1s 37ms/step - loss: 118.6569 - mae: 118.6569 - val_loss: 590.8038 - val_mae: 590.8038\n",
            "Epoch 37/100\n",
            "18/18 [==============================] - 0s 7ms/step - loss: 112.9659 - mae: 112.9659 - val_loss: 591.7266 - val_mae: 591.7266\n",
            "Epoch 38/100\n",
            "18/18 [==============================] - 0s 7ms/step - loss: 112.8777 - mae: 112.8777 - val_loss: 610.8198 - val_mae: 610.8198\n",
            "Epoch 39/100\n",
            "18/18 [==============================] - 1s 31ms/step - loss: 112.0958 - mae: 112.0958 - val_loss: 590.1995 - val_mae: 590.1995\n",
            "Epoch 40/100\n",
            "18/18 [==============================] - 0s 24ms/step - loss: 109.0321 - mae: 109.0321 - val_loss: 589.6074 - val_mae: 589.6074\n",
            "Epoch 41/100\n",
            "18/18 [==============================] - 0s 26ms/step - loss: 108.6781 - mae: 108.6781 - val_loss: 584.7074 - val_mae: 584.7074\n",
            "Epoch 42/100\n",
            "18/18 [==============================] - 0s 5ms/step - loss: 114.9096 - mae: 114.9096 - val_loss: 614.8585 - val_mae: 614.8585\n",
            "Epoch 43/100\n",
            "18/18 [==============================] - 0s 5ms/step - loss: 113.5902 - mae: 113.5902 - val_loss: 666.1573 - val_mae: 666.1573\n",
            "Epoch 44/100\n",
            "18/18 [==============================] - 0s 5ms/step - loss: 112.7529 - mae: 112.7529 - val_loss: 589.4972 - val_mae: 589.4972\n",
            "Epoch 45/100\n",
            "18/18 [==============================] - 0s 4ms/step - loss: 108.6923 - mae: 108.6923 - val_loss: 589.9175 - val_mae: 589.9175\n",
            "Epoch 46/100\n",
            "18/18 [==============================] - 0s 26ms/step - loss: 108.8710 - mae: 108.8710 - val_loss: 581.1986 - val_mae: 581.1986\n",
            "Epoch 47/100\n",
            "18/18 [==============================] - 0s 6ms/step - loss: 108.5405 - mae: 108.5405 - val_loss: 589.8387 - val_mae: 589.8387\n",
            "Epoch 48/100\n",
            "18/18 [==============================] - 0s 5ms/step - loss: 109.8257 - mae: 109.8257 - val_loss: 651.1358 - val_mae: 651.1358\n",
            "Epoch 49/100\n",
            "18/18 [==============================] - 0s 27ms/step - loss: 119.0564 - mae: 119.0564 - val_loss: 578.9460 - val_mae: 578.9460\n",
            "Epoch 50/100\n",
            "18/18 [==============================] - 0s 6ms/step - loss: 108.0463 - mae: 108.0463 - val_loss: 679.9998 - val_mae: 679.9998\n",
            "Epoch 51/100\n",
            "18/18 [==============================] - 0s 5ms/step - loss: 112.4355 - mae: 112.4355 - val_loss: 605.4456 - val_mae: 605.4456\n",
            "Epoch 52/100\n",
            "18/18 [==============================] - 0s 5ms/step - loss: 111.6691 - mae: 111.6691 - val_loss: 592.0568 - val_mae: 592.0568\n",
            "Epoch 53/100\n",
            "18/18 [==============================] - 0s 5ms/step - loss: 108.2048 - mae: 108.2048 - val_loss: 661.6854 - val_mae: 661.6854\n",
            "Epoch 54/100\n",
            "18/18 [==============================] - 0s 6ms/step - loss: 110.9200 - mae: 110.9200 - val_loss: 593.2658 - val_mae: 593.2658\n",
            "Epoch 55/100\n",
            "18/18 [==============================] - 0s 5ms/step - loss: 112.7233 - mae: 112.7233 - val_loss: 588.8309 - val_mae: 588.8309\n",
            "Epoch 56/100\n",
            "18/18 [==============================] - 0s 4ms/step - loss: 113.0821 - mae: 113.0821 - val_loss: 788.7054 - val_mae: 788.7054\n",
            "Epoch 57/100\n",
            "18/18 [==============================] - 0s 5ms/step - loss: 126.8285 - mae: 126.8285 - val_loss: 704.3674 - val_mae: 704.3674\n",
            "Epoch 58/100\n",
            "18/18 [==============================] - 0s 4ms/step - loss: 115.8916 - mae: 115.8916 - val_loss: 605.1079 - val_mae: 605.1079\n",
            "Epoch 59/100\n",
            "18/18 [==============================] - 0s 5ms/step - loss: 110.6875 - mae: 110.6875 - val_loss: 633.1886 - val_mae: 633.1886\n",
            "Epoch 60/100\n",
            "18/18 [==============================] - 0s 5ms/step - loss: 111.8238 - mae: 111.8238 - val_loss: 645.3599 - val_mae: 645.3599\n",
            "Epoch 61/100\n",
            "18/18 [==============================] - 0s 5ms/step - loss: 110.4585 - mae: 110.4585 - val_loss: 580.9144 - val_mae: 580.9144\n",
            "Epoch 62/100\n",
            "18/18 [==============================] - 0s 5ms/step - loss: 107.3259 - mae: 107.3259 - val_loss: 581.5294 - val_mae: 581.5294\n",
            "Epoch 63/100\n",
            "18/18 [==============================] - 0s 5ms/step - loss: 107.8225 - mae: 107.8225 - val_loss: 587.2188 - val_mae: 587.2188\n",
            "Epoch 64/100\n",
            "18/18 [==============================] - 0s 25ms/step - loss: 108.4387 - mae: 108.4387 - val_loss: 571.8661 - val_mae: 571.8661\n",
            "Epoch 65/100\n",
            "18/18 [==============================] - 0s 26ms/step - loss: 106.8091 - mae: 106.8091 - val_loss: 569.1819 - val_mae: 569.1819\n",
            "Epoch 66/100\n",
            "18/18 [==============================] - 0s 5ms/step - loss: 105.8201 - mae: 105.8201 - val_loss: 579.7907 - val_mae: 579.7907\n",
            "Epoch 67/100\n",
            "18/18 [==============================] - 0s 5ms/step - loss: 106.2245 - mae: 106.2245 - val_loss: 706.8870 - val_mae: 706.8870\n",
            "Epoch 68/100\n",
            "18/18 [==============================] - 0s 5ms/step - loss: 109.3727 - mae: 109.3727 - val_loss: 587.1128 - val_mae: 587.1128\n",
            "Epoch 69/100\n",
            "18/18 [==============================] - 0s 5ms/step - loss: 115.1577 - mae: 115.1577 - val_loss: 730.0167 - val_mae: 730.0167\n",
            "Epoch 70/100\n",
            "18/18 [==============================] - 0s 5ms/step - loss: 127.2388 - mae: 127.2388 - val_loss: 674.0391 - val_mae: 674.0391\n",
            "Epoch 71/100\n",
            "18/18 [==============================] - 0s 5ms/step - loss: 118.7568 - mae: 118.7568 - val_loss: 640.9498 - val_mae: 640.9498\n",
            "Epoch 72/100\n",
            "18/18 [==============================] - 0s 5ms/step - loss: 107.2610 - mae: 107.2610 - val_loss: 573.8716 - val_mae: 573.8716\n",
            "Epoch 73/100\n",
            "18/18 [==============================] - 0s 5ms/step - loss: 109.7000 - mae: 109.7000 - val_loss: 580.4309 - val_mae: 580.4309\n",
            "Epoch 74/100\n",
            "18/18 [==============================] - 0s 25ms/step - loss: 105.9899 - mae: 105.9899 - val_loss: 567.7365 - val_mae: 567.7365\n",
            "Epoch 75/100\n",
            "18/18 [==============================] - 0s 6ms/step - loss: 107.2642 - mae: 107.2642 - val_loss: 588.3210 - val_mae: 588.3210\n",
            "Epoch 76/100\n",
            "18/18 [==============================] - 0s 5ms/step - loss: 108.2665 - mae: 108.2665 - val_loss: 577.9017 - val_mae: 577.9017\n",
            "Epoch 77/100\n",
            "18/18 [==============================] - 0s 5ms/step - loss: 104.7887 - mae: 104.7887 - val_loss: 576.1183 - val_mae: 576.1183\n",
            "Epoch 78/100\n",
            "18/18 [==============================] - 0s 5ms/step - loss: 108.9066 - mae: 108.9066 - val_loss: 598.8547 - val_mae: 598.8547\n",
            "Epoch 79/100\n",
            "18/18 [==============================] - 0s 5ms/step - loss: 110.0250 - mae: 110.0250 - val_loss: 572.8762 - val_mae: 572.8762\n",
            "Epoch 80/100\n",
            "18/18 [==============================] - 0s 5ms/step - loss: 105.0212 - mae: 105.0212 - val_loss: 592.8442 - val_mae: 592.8442\n",
            "Epoch 81/100\n",
            "18/18 [==============================] - 0s 5ms/step - loss: 106.0273 - mae: 106.0273 - val_loss: 570.5392 - val_mae: 570.5392\n",
            "Epoch 82/100\n",
            "18/18 [==============================] - 0s 6ms/step - loss: 113.8111 - mae: 113.8111 - val_loss: 568.0773 - val_mae: 568.0773\n",
            "Epoch 83/100\n",
            "18/18 [==============================] - 0s 6ms/step - loss: 111.2717 - mae: 111.2717 - val_loss: 714.0352 - val_mae: 714.0353\n",
            "Epoch 84/100\n",
            "18/18 [==============================] - 0s 5ms/step - loss: 113.5822 - mae: 113.5822 - val_loss: 573.3759 - val_mae: 573.3759\n",
            "Epoch 85/100\n",
            "18/18 [==============================] - 0s 5ms/step - loss: 108.5519 - mae: 108.5519 - val_loss: 573.9460 - val_mae: 573.9460\n",
            "Epoch 86/100\n",
            "18/18 [==============================] - 0s 5ms/step - loss: 104.0077 - mae: 104.0077 - val_loss: 591.0905 - val_mae: 591.0905\n",
            "Epoch 87/100\n",
            "18/18 [==============================] - 0s 5ms/step - loss: 105.0581 - mae: 105.0581 - val_loss: 605.0439 - val_mae: 605.0439\n",
            "Epoch 88/100\n",
            "18/18 [==============================] - 0s 5ms/step - loss: 108.3064 - mae: 108.3064 - val_loss: 569.3755 - val_mae: 569.3755\n",
            "Epoch 89/100\n",
            "18/18 [==============================] - 1s 39ms/step - loss: 105.4124 - mae: 105.4124 - val_loss: 567.5246 - val_mae: 567.5246\n",
            "Epoch 90/100\n",
            "18/18 [==============================] - 0s 5ms/step - loss: 103.8692 - mae: 103.8692 - val_loss: 604.8242 - val_mae: 604.8242\n",
            "Epoch 91/100\n",
            "18/18 [==============================] - 0s 5ms/step - loss: 108.0344 - mae: 108.0344 - val_loss: 570.8480 - val_mae: 570.8480\n",
            "Epoch 92/100\n",
            "18/18 [==============================] - 0s 5ms/step - loss: 106.6406 - mae: 106.6406 - val_loss: 635.2982 - val_mae: 635.2982\n",
            "Epoch 93/100\n",
            "18/18 [==============================] - 0s 6ms/step - loss: 118.5980 - mae: 118.5980 - val_loss: 665.1581 - val_mae: 665.1581\n",
            "Epoch 94/100\n",
            "18/18 [==============================] - 0s 6ms/step - loss: 110.4194 - mae: 110.4194 - val_loss: 598.2335 - val_mae: 598.2335\n",
            "Epoch 95/100\n",
            "18/18 [==============================] - 0s 6ms/step - loss: 104.1900 - mae: 104.1900 - val_loss: 573.3853 - val_mae: 573.3853\n",
            "Epoch 96/100\n",
            "18/18 [==============================] - 0s 6ms/step - loss: 106.3740 - mae: 106.3740 - val_loss: 602.5193 - val_mae: 602.5193\n",
            "Epoch 97/100\n",
            "18/18 [==============================] - 0s 5ms/step - loss: 105.9664 - mae: 105.9664 - val_loss: 567.8974 - val_mae: 567.8974\n",
            "Epoch 98/100\n",
            "18/18 [==============================] - 0s 6ms/step - loss: 104.0499 - mae: 104.0499 - val_loss: 571.6353 - val_mae: 571.6353\n",
            "Epoch 99/100\n",
            "18/18 [==============================] - 0s 5ms/step - loss: 106.1059 - mae: 106.1059 - val_loss: 573.5497 - val_mae: 573.5497\n",
            "Epoch 100/100\n",
            "18/18 [==============================] - 0s 5ms/step - loss: 112.8662 - mae: 112.8662 - val_loss: 669.8654 - val_mae: 669.8654\n"
          ]
        },
        {
          "output_type": "execute_result",
          "data": {
            "text/plain": [
              "<keras.src.callbacks.History at 0x79a4eff22380>"
            ]
          },
          "metadata": {},
          "execution_count": 36
        }
      ]
    },
    {
      "cell_type": "markdown",
      "metadata": {
        "id": "ZRrvDINUooJO"
      },
      "source": [
        "To Evaluate."
      ]
    },
    {
      "cell_type": "code",
      "metadata": {
        "id": "N1DbcEZBY_Bt",
        "colab": {
          "base_uri": "https://localhost:8080/",
          "height": 0
        },
        "outputId": "6fa8410a-ccec-4630-bbe7-41c97e2c40d3"
      },
      "source": [
        "# Evaluate model on test data\n",
        "model_1.evaluate(test_windows, test_labels)"
      ],
      "execution_count": 37,
      "outputs": [
        {
          "output_type": "stream",
          "name": "stdout",
          "text": [
            "18/18 [==============================] - 0s 2ms/step - loss: 669.8655 - mae: 669.8655\n"
          ]
        },
        {
          "output_type": "execute_result",
          "data": {
            "text/plain": [
              "[669.8655395507812, 669.8655395507812]"
            ]
          },
          "metadata": {},
          "execution_count": 37
        }
      ]
    },
    {
      "cell_type": "markdown",
      "metadata": {
        "id": "zwaUv85oox2F"
      },
      "source": [
        "You'll notice the model achieves the same `val_loss` (in this case, this is MAE) as the last epoch.\n",
        "\n",
        "But if we load in the version of `model_1` which was saved to file using the `ModelCheckpoint` callback, we should see an improvement in results."
      ]
    },
    {
      "cell_type": "code",
      "metadata": {
        "id": "FXey-AX-XZPK",
        "colab": {
          "base_uri": "https://localhost:8080/",
          "height": 0
        },
        "outputId": "9c50ac1e-902c-46fb-bbf8-6033d15bf5a6"
      },
      "source": [
        "# Load in saved best performing model_1 and evaluate on test data\n",
        "model_1 = tf.keras.models.load_model(\"model_experiments/model_1_dense\")\n",
        "model_1.evaluate(test_windows, test_labels)"
      ],
      "execution_count": 38,
      "outputs": [
        {
          "output_type": "stream",
          "name": "stdout",
          "text": [
            "18/18 [==============================] - 0s 2ms/step - loss: 567.5247 - mae: 567.5247\n"
          ]
        },
        {
          "output_type": "execute_result",
          "data": {
            "text/plain": [
              "[567.5247192382812, 567.5247192382812]"
            ]
          },
          "metadata": {},
          "execution_count": 38
        }
      ]
    },
    {
      "cell_type": "markdown",
      "metadata": {
        "id": "-HfeTX5KhYin"
      },
      "source": [
        "## Making forecasts with a model (on the test dataset)\n",
        "\n",
        "I've trained a model and evaluated the it on the test data, but the project we're working on is called BitPredict so how do you think we could use our model to make predictions?\n",
        "\n",
        "Since we're going to be running more modelling experiments, let's write a function which:\n",
        "1. Takes in a trained model (just like `model_1`)\n",
        "2. Takes in some input data (just like the data the model was trained on)\n",
        "3. Passes the input data to the model's `predict()` method\n",
        "4. Returns the predictions\n",
        "\n"
      ]
    },
    {
      "cell_type": "code",
      "metadata": {
        "id": "hZrExWzyh3ur"
      },
      "source": [
        "def make_preds(model, input_data):\n",
        "  \"\"\"\n",
        "  Uses model to make predictions on input_data.\n",
        "\n",
        "  Parameters\n",
        "  ----------\n",
        "  model: trained model\n",
        "  input_data: windowed input data (same kind of data model was trained on)\n",
        "\n",
        "  Returns model predictions on input_data.\n",
        "  \"\"\"\n",
        "  forecast = model.predict(input_data)\n",
        "  return tf.squeeze(forecast) # return 1D array of predictions"
      ],
      "execution_count": 39,
      "outputs": []
    },
    {
      "cell_type": "code",
      "metadata": {
        "id": "u1aAKQp6vapw",
        "colab": {
          "base_uri": "https://localhost:8080/",
          "height": 0
        },
        "outputId": "6c3867dc-7cce-4839-94bb-8e3a9aba6a88"
      },
      "source": [
        "# Make predictions using model_1 on the test dataset and view the results\n",
        "model_1_preds = make_preds(model_1, test_windows)\n",
        "len(model_1_preds), model_1_preds[:10]"
      ],
      "execution_count": 40,
      "outputs": [
        {
          "output_type": "stream",
          "name": "stdout",
          "text": [
            "18/18 [==============================] - 0s 2ms/step\n"
          ]
        },
        {
          "output_type": "execute_result",
          "data": {
            "text/plain": [
              "(556,\n",
              " <tf.Tensor: shape=(10,), dtype=float32, numpy=\n",
              " array([8838.6  , 8767.453, 9028.451, 8764.462, 8750.77 , 8740.789,\n",
              "        8672.169, 8520.159, 8456.789, 8525.629], dtype=float32)>)"
            ]
          },
          "metadata": {},
          "execution_count": 40
        }
      ]
    },
    {
      "cell_type": "markdown",
      "metadata": {
        "id": "q5Ra13OrwIOf"
      },
      "source": [
        " With these outputs, our model isn't *forecasting* yet. It's only making predictions on the test dataset. Forecasting would involve a model making predictions into the future, however, the test dataset is only a pseudofuture.\n",
        "\n",
        "I've got some prediction values, let's use the `evaluate_preds()` we created before to compare them to the ground truth."
      ]
    },
    {
      "cell_type": "code",
      "metadata": {
        "id": "eHak7Jqd9aXv",
        "colab": {
          "base_uri": "https://localhost:8080/",
          "height": 0
        },
        "outputId": "df669353-23eb-4de5-97d6-e3ce258cbc85"
      },
      "source": [
        "# Evaluate preds\n",
        "model_1_results = evaluate_preds(y_true=tf.squeeze(test_labels), # reduce to right shape\n",
        "                                 y_pred=model_1_preds)\n",
        "model_1_results"
      ],
      "execution_count": 41,
      "outputs": [
        {
          "output_type": "execute_result",
          "data": {
            "text/plain": [
              "{'mae': 567.52484,\n",
              " 'mse': 1163558.5,\n",
              " 'rmse': 1078.6837,\n",
              " 'mape': 2.5628912,\n",
              " 'mase': 0.99698395}"
            ]
          },
          "metadata": {},
          "execution_count": 41
        }
      ]
    },
    {
      "cell_type": "markdown",
      "metadata": {
        "id": "hGL9Mj6Rwddw"
      },
      "source": [
        "How did our model go? Did it beat the naïve forecast?"
      ]
    },
    {
      "cell_type": "code",
      "metadata": {
        "id": "5WePaRbqxTXL",
        "colab": {
          "base_uri": "https://localhost:8080/",
          "height": 0
        },
        "outputId": "0e670a77-d775-47e3-99f9-8064c9f9c187"
      },
      "source": [
        "naive_results"
      ],
      "execution_count": 42,
      "outputs": [
        {
          "output_type": "execute_result",
          "data": {
            "text/plain": [
              "{'mae': 567.9802,\n",
              " 'mse': 1147547.0,\n",
              " 'rmse': 1071.2362,\n",
              " 'mape': 2.516525,\n",
              " 'mase': 0.99957}"
            ]
          },
          "metadata": {},
          "execution_count": 42
        }
      ]
    },
    {
      "cell_type": "markdown",
      "metadata": {
        "id": "skEwK88PxhDL"
      },
      "source": [
        "It looks like our naïve model beats our first deep model on nearly every metric.\n",
        "Let's use the `plot_time_series()` function to plot `model_1_preds` against the test data."
      ]
    },
    {
      "cell_type": "code",
      "metadata": {
        "id": "Wgxoqg_tIhFJ",
        "colab": {
          "base_uri": "https://localhost:8080/",
          "height": 619
        },
        "outputId": "c80be586-df09-4086-c5cf-3e870575a3e8"
      },
      "source": [
        "offset = 300\n",
        "plt.figure(figsize=(10, 7))\n",
        "# Account for the test_window offset and index into test_labels to ensure correct plotting\n",
        "plot_time_series(timesteps=X_test[-len(test_windows):], values=test_labels[:, 0], start=offset, label=\"Test_data\")\n",
        "plot_time_series(timesteps=X_test[-len(test_windows):], values=model_1_preds, start=offset, format=\"-\", label=\"model_1_preds\")"
      ],
      "execution_count": 43,
      "outputs": [
        {
          "output_type": "display_data",
          "data": {
            "text/plain": [
              "<Figure size 1000x700 with 1 Axes>"
            ],
            "image/png": "[encoded data removed]"
          },
          "metadata": {}
        }
      ]
    },
    {
      "cell_type": "markdown",
      "metadata": {
        "id": "DiZLQ4KpqRqN"
      },
      "source": [
        "As mentioned before, they're on the test dataset. So they're not actual forecasts."
      ]
    },
    {
      "cell_type": "markdown",
      "metadata": {
        "id": "fr18ffVq4i6m"
      },
      "source": [
        "## Model 2: Dense (window = 30, horizon = 1)\n",
        "We'll start our second modelling experiment by preparing datasets using the functions we created earlier."
      ]
    },
    {
      "cell_type": "code",
      "metadata": {
        "id": "Vz0eMi7F4wpn"
      },
      "source": [
        "HORIZON = 1 # predict one step at a time\n",
        "WINDOW_SIZE = 30 # use 30 timesteps in the past"
      ],
      "execution_count": 44,
      "outputs": []
    },
    {
      "cell_type": "code",
      "metadata": {
        "id": "1HlYaAxr6UoC",
        "colab": {
          "base_uri": "https://localhost:8080/",
          "height": 0
        },
        "outputId": "d037b774-6df9-4517-af52-ccddd24d91db"
      },
      "source": [
        "# Make windowed data with appropriate horizon and window sizes\n",
        "full_windows, full_labels = make_windows(prices, window_size=WINDOW_SIZE, horizon=HORIZON)\n",
        "len(full_windows), len(full_labels)"
      ],
      "execution_count": 45,
      "outputs": [
        {
          "output_type": "execute_result",
          "data": {
            "text/plain": [
              "(2757, 2757)"
            ]
          },
          "metadata": {},
          "execution_count": 45
        }
      ]
    },
    {
      "cell_type": "code",
      "metadata": {
        "id": "jWxYZtOuelzO",
        "colab": {
          "base_uri": "https://localhost:8080/",
          "height": 0
        },
        "outputId": "a282ffeb-e0fa-4269-e494-9e6666d11c10"
      },
      "source": [
        "# Make train and testing windows\n",
        "train_windows, test_windows, train_labels, test_labels = make_train_test_splits(windows=full_windows, labels=full_labels)\n",
        "len(train_windows), len(test_windows), len(train_labels), len(test_labels)"
      ],
      "execution_count": 46,
      "outputs": [
        {
          "output_type": "execute_result",
          "data": {
            "text/plain": [
              "(2205, 552, 2205, 552)"
            ]
          },
          "metadata": {},
          "execution_count": 46
        }
      ]
    },
    {
      "cell_type": "code",
      "metadata": {
        "id": "b_oz5aJE6UwN",
        "colab": {
          "base_uri": "https://localhost:8080/",
          "height": 0
        },
        "outputId": "d173d311-667a-4191-d5d8-a5b2e473e507"
      },
      "source": [
        "tf.random.set_seed(42)\n",
        "\n",
        "# Create model (same model as model 1 but data input will be different)\n",
        "model_2 = tf.keras.Sequential([\n",
        "  layers.Dense(128, activation=\"relu\"),\n",
        "  layers.Dense(HORIZON) # need to predict horizon number of steps into the future\n",
        "], name=\"model_2_dense\")\n",
        "\n",
        "model_2.compile(loss=\"mae\",\n",
        "                optimizer=tf.keras.optimizers.Adam())\n",
        "\n",
        "model_2.fit(train_windows,\n",
        "            train_labels,\n",
        "            epochs=100,\n",
        "            batch_size=128,\n",
        "            verbose=0,\n",
        "            validation_data=(test_windows, test_labels),\n",
        "            callbacks=[create_model_checkpoint(model_name=model_2.name)])"
      ],
      "execution_count": 47,
      "outputs": [
        {
          "output_type": "execute_result",
          "data": {
            "text/plain": [
              "<keras.src.callbacks.History at 0x79a4aa974820>"
            ]
          },
          "metadata": {},
          "execution_count": 47
        }
      ]
    },
    {
      "cell_type": "markdown",
      "metadata": {
        "id": "0oYd2nt51Ppj"
      },
      "source": [
        "Let's evaluate our model's performance."
      ]
    },
    {
      "cell_type": "code",
      "metadata": {
        "id": "W42Fa-aO8rhg",
        "colab": {
          "base_uri": "https://localhost:8080/",
          "height": 0
        },
        "outputId": "2591dae8-28c3-45df-f4c2-03569a13f5df"
      },
      "source": [
        "# Evaluate model 2 preds\n",
        "model_2.evaluate(test_windows, test_labels)"
      ],
      "execution_count": 48,
      "outputs": [
        {
          "output_type": "stream",
          "name": "stdout",
          "text": [
            "18/18 [==============================] - 0s 3ms/step - loss: 615.4510\n"
          ]
        },
        {
          "output_type": "execute_result",
          "data": {
            "text/plain": [
              "615.4510498046875"
            ]
          },
          "metadata": {},
          "execution_count": 48
        }
      ]
    },
    {
      "cell_type": "code",
      "metadata": {
        "id": "c_hG89F5YV4i",
        "colab": {
          "base_uri": "https://localhost:8080/",
          "height": 0
        },
        "outputId": "0f5ba2d2-a77e-45f5-d80b-ddaf88a4bdec"
      },
      "source": [
        "# Load in best performing model\n",
        "model_2 = tf.keras.models.load_model(\"model_experiments/model_2_dense/\")\n",
        "model_2.evaluate(test_windows, test_labels)"
      ],
      "execution_count": 49,
      "outputs": [
        {
          "output_type": "stream",
          "name": "stdout",
          "text": [
            "18/18 [==============================] - 0s 3ms/step - loss: 612.0988\n"
          ]
        },
        {
          "output_type": "execute_result",
          "data": {
            "text/plain": [
              "612.0988159179688"
            ]
          },
          "metadata": {},
          "execution_count": 49
        }
      ]
    },
    {
      "cell_type": "code",
      "metadata": {
        "id": "TPfvPgkUknY5",
        "colab": {
          "base_uri": "https://localhost:8080/",
          "height": 0
        },
        "outputId": "980d876f-3f6b-4c42-b9b9-2e7878d906f0"
      },
      "source": [
        "# Get forecast predictions\n",
        "model_2_preds = make_preds(model_2,\n",
        "                           input_data=test_windows)"
      ],
      "execution_count": 50,
      "outputs": [
        {
          "output_type": "stream",
          "name": "stdout",
          "text": [
            "18/18 [==============================] - 0s 2ms/step\n"
          ]
        }
      ]
    },
    {
      "cell_type": "code",
      "metadata": {
        "id": "dy7XZx7FllHX",
        "colab": {
          "base_uri": "https://localhost:8080/",
          "height": 0
        },
        "outputId": "63318c9f-b512-4fa3-c6f2-7a9cec229123"
      },
      "source": [
        "# Evaluate results for model 2 predictions\n",
        "model_2_results = evaluate_preds(y_true=tf.squeeze(test_labels), # remove 1 dimension of test labels\n",
        "                                 y_pred=model_2_preds)\n",
        "model_2_results"
      ],
      "execution_count": 51,
      "outputs": [
        {
          "output_type": "execute_result",
          "data": {
            "text/plain": [
              "{'mae': 612.0988,\n",
              " 'mse': 1296957.2,\n",
              " 'rmse': 1138.8403,\n",
              " 'mape': 2.7764509,\n",
              " 'mase': 1.0699548}"
            ]
          },
          "metadata": {},
          "execution_count": 51
        }
      ]
    },
    {
      "cell_type": "markdown",
      "metadata": {
        "id": "a8djCXli1wGy"
      },
      "source": [
        "It looks like `model_2` performs worse than the naïve model as well as `model_1`!\n",
        "Does this mean a smaller window size is better?"
      ]
    },
    {
      "cell_type": "code",
      "metadata": {
        "id": "jHh_qtXflx7Z",
        "colab": {
          "base_uri": "https://localhost:8080/",
          "height": 619
        },
        "outputId": "6b748d9f-fbe2-4251-8c18-c4aef25193a3"
      },
      "source": [
        "offset = 300\n",
        "plt.figure(figsize=(10, 7))\n",
        "# Account for the test_window offset\n",
        "plot_time_series(timesteps=X_test[-len(test_windows):], values=test_labels[:, 0], start=offset, label=\"test_data\")\n",
        "plot_time_series(timesteps=X_test[-len(test_windows):], values=model_2_preds, start=offset, format=\"-\", label=\"model_2_preds\")"
      ],
      "execution_count": 52,
      "outputs": [
        {
          "output_type": "display_data",
          "data": {
            "text/plain": [
              "<Figure size 1000x700 with 1 Axes>"
            ],
            "image/png": "[encoded data removed]"
          },
          "metadata": {}
        }
      ]
    },
    {
      "cell_type": "code",
      "metadata": {
        "id": "QA4EKseAVrYf",
        "colab": {
          "base_uri": "https://localhost:8080/",
          "height": 616
        },
        "outputId": "85aa5d1d-3889-403c-8e6d-64b702a1f109"
      },
      "source": [
        "pd.DataFrame({\"naive\": naive_results[\"mae\"],\n",
        "              \"horizon_1_window_7\": model_1_results[\"mae\"],\n",
        "              \"horizon_1_window_30\": model_2_results[\"mae\"]}, index=[\"mae\"]).plot(figsize=(10, 7), kind=\"bar\");"
      ],
      "execution_count": 53,
      "outputs": [
        {
          "output_type": "display_data",
          "data": {
            "text/plain": [
              "<Figure size 1000x700 with 1 Axes>"
            ],
            "image/png": "[encoded data removed]"
          },
          "metadata": {}
        }
      ]
    },
    {
      "cell_type": "markdown",
      "metadata": {
        "id": "dIRwia9BWeI5"
      },
      "source": [
        "Woah, our naïve model is performing best (it's very hard to beat a naïve model in open systems) but the dense model with a horizon of 1 and a window size of 7 looks to be performing cloest.\n",
        "\n",
        "Why are the naïve results so good? One of the reasons could be due the presence of **autocorrelation** in the data. If a time series has **autocorrelation** it means the value at `t+1` (the next timestep) is typically close to the value at `t` (the current timestep). In other words, today's value is probably pretty close to yesterday's value. Of course, this isn't always the case but when it is, a naïve model will often get fairly good results.\n"
      ]
    },
    {
      "cell_type": "markdown",
      "metadata": {
        "id": "CxcL0gi-rWC5"
      },
      "source": [
        "## Model 3: Conv1D\n",
        "\n",
        "Let's recreate our datasets."
      ]
    },
    {
      "cell_type": "code",
      "metadata": {
        "id": "2_t9hXvXrZPD"
      },
      "source": [
        "HORIZON = 1 # predict next day\n",
        "WINDOW_SIZE = 7 # use previous week worth of data"
      ],
      "execution_count": 54,
      "outputs": []
    },
    {
      "cell_type": "code",
      "metadata": {
        "id": "CRCy-vXzsEGL",
        "colab": {
          "base_uri": "https://localhost:8080/",
          "height": 0
        },
        "outputId": "5a2eea95-fb61-42b0-f334-573aa72c0542"
      },
      "source": [
        "# Create windowed dataset\n",
        "full_windows, full_labels = make_windows(prices, window_size=WINDOW_SIZE, horizon=HORIZON)\n",
        "len(full_windows), len(full_labels)"
      ],
      "execution_count": 55,
      "outputs": [
        {
          "output_type": "execute_result",
          "data": {
            "text/plain": [
              "(2780, 2780)"
            ]
          },
          "metadata": {},
          "execution_count": 55
        }
      ]
    },
    {
      "cell_type": "code",
      "metadata": {
        "id": "ZtsLeB3rsED2",
        "colab": {
          "base_uri": "https://localhost:8080/",
          "height": 0
        },
        "outputId": "4ef9c859-fae1-41c3-a83c-c58c33eb3fd4"
      },
      "source": [
        "# Create train/test splits\n",
        "train_windows, test_windows, train_labels, test_labels = make_train_test_splits(full_windows, full_labels)\n",
        "len(train_windows), len(test_windows), len(train_labels), len(test_labels)"
      ],
      "execution_count": 56,
      "outputs": [
        {
          "output_type": "execute_result",
          "data": {
            "text/plain": [
              "(2224, 556, 2224, 556)"
            ]
          },
          "metadata": {},
          "execution_count": 56
        }
      ]
    },
    {
      "cell_type": "markdown",
      "metadata": {
        "id": "RMtzZKYRXExH"
      },
      "source": [
        "The Conv1D layer in TensorFlow takes an input of: `(batch_size, timesteps, input_dim)`.\n",
        "\n",
        "In our case, the `batch_size` (by default this is 32 but we can change it) is handled for us but the other values will be:\n",
        "* `timesteps = WINDOW_SIZE` - the `timesteps` is also often referred to as `features`, our features are the previous `WINDOW_SIZE` values of Bitcoin\n",
        "* `input_dim = HORIZON` - our model views `WINDOW_SIZE` (one week) worth of data at a time to predict `HORIZON` (one day)\n",
        "\n",
        "Our data has the `timesteps` dimension ready but we'll have to adjust it to have the `input_dim` dimension."
      ]
    },
    {
      "cell_type": "code",
      "metadata": {
        "id": "To_k7zIAX7Pj",
        "colab": {
          "base_uri": "https://localhost:8080/",
          "height": 0
        },
        "outputId": "f47f9957-8485-46df-9689-5439ddfa4ad1"
      },
      "source": [
        "# Check data sample shapes\n",
        "train_windows[0].shape # returns (WINDOW_SIZE, )"
      ],
      "execution_count": 57,
      "outputs": [
        {
          "output_type": "execute_result",
          "data": {
            "text/plain": [
              "(7,)"
            ]
          },
          "metadata": {},
          "execution_count": 57
        }
      ]
    },
    {
      "cell_type": "markdown",
      "metadata": {
        "id": "oPIMnb3GYMvP"
      },
      "source": [
        "To fix this, we could adjust the shape of all of our `train_windows` or we could use a tf.keras.layers.Lamdba (called a Lambda layer) to do this for us in our model.\n",
        "\n",
        "The Lambda layer wraps a function into a layer which can be used with a model."
      ]
    },
    {
      "cell_type": "code",
      "metadata": {
        "id": "62oSNy3VvZpv",
        "colab": {
          "base_uri": "https://localhost:8080/",
          "height": 0
        },
        "outputId": "b689bb32-2031-424e-97ad-f9c131794ccb"
      },
      "source": [
        "# Before we pass our data to the Conv1D layer, we have to reshape it in order to make sure it works\n",
        "x = tf.constant(train_windows[0])\n",
        "expand_dims_layer = layers.Lambda(lambda x: tf.expand_dims(x, axis=1)) # add an extra dimension for timesteps\n",
        "print(f\"Original shape: {x.shape}\") # (WINDOW_SIZE)\n",
        "print(f\"Expanded shape: {expand_dims_layer(x).shape}\") # (WINDOW_SIZE, input_dim)\n",
        "print(f\"Original values with expanded shape:\\n {expand_dims_layer(x)}\")"
      ],
      "execution_count": 58,
      "outputs": [
        {
          "output_type": "stream",
          "name": "stdout",
          "text": [
            "Original shape: (7,)\n",
            "Expanded shape: (7, 1)\n",
            "Original values with expanded shape:\n",
            " [[123.65499]\n",
            " [125.455  ]\n",
            " [108.58483]\n",
            " [118.67466]\n",
            " [121.33866]\n",
            " [120.65533]\n",
            " [121.795  ]]\n"
          ]
        }
      ]
    },
    {
      "cell_type": "markdown",
      "metadata": {
        "id": "vKt2YFb5ip4n"
      },
      "source": [
        "I've got a Lambda layer, let's build, compile, fit and evaluate a Conv1D model on our data.\n",
        "\n",
        "If you run the model below without the Lambda layer, you'll get an input shape error (one of the most common errors when building neural networks)."
      ]
    },
    {
      "cell_type": "code",
      "metadata": {
        "id": "jODevMWGsEBI",
        "colab": {
          "base_uri": "https://localhost:8080/",
          "height": 0
        },
        "outputId": "c29395d1-dfc1-40d5-f958-62ca3a70515f"
      },
      "source": [
        "tf.random.set_seed(42)\n",
        "\n",
        "# Create model\n",
        "model_3 = tf.keras.Sequential([\n",
        "  # Create Lambda layer to reshape inputs, without this layer, the model will error\n",
        "  layers.Lambda(lambda x: tf.expand_dims(x, axis=1)), # resize the inputs to adjust for window size / Conv1D 3D input requirements\n",
        "  layers.Conv1D(filters=128, kernel_size=5, padding=\"causal\", activation=\"relu\"),\n",
        "  layers.Dense(HORIZON)\n",
        "], name=\"model_3_conv1D\")\n",
        "\n",
        "# Compile model\n",
        "model_3.compile(loss=\"mae\",\n",
        "                optimizer=tf.keras.optimizers.Adam())\n",
        "\n",
        "# Fit model\n",
        "model_3.fit(train_windows,\n",
        "            train_labels,\n",
        "            batch_size=128,\n",
        "            epochs=100,\n",
        "            verbose=0,\n",
        "            validation_data=(test_windows, test_labels),\n",
        "            callbacks=[create_model_checkpoint(model_name=model_3.name)])"
      ],
      "execution_count": 59,
      "outputs": [
        {
          "output_type": "execute_result",
          "data": {
            "text/plain": [
              "<keras.src.callbacks.History at 0x79a4b136b610>"
            ]
          },
          "metadata": {},
          "execution_count": 59
        }
      ]
    },
    {
      "cell_type": "code",
      "metadata": {
        "id": "2FcGUALG4RxJ",
        "colab": {
          "base_uri": "https://localhost:8080/",
          "height": 0
        },
        "outputId": "742ebef2-72b2-475f-b7f0-4ecb30ec6ae6"
      },
      "source": [
        "model_3.summary()"
      ],
      "execution_count": 60,
      "outputs": [
        {
          "output_type": "stream",
          "name": "stdout",
          "text": [
            "Model: \"model_3_conv1D\"\n",
            "_________________________________________________________________\n",
            " Layer (type)                Output Shape              Param #   \n",
            "=================================================================\n",
            " lambda_1 (Lambda)           (None, 1, 7)              0         \n",
            "                                                                 \n",
            " conv1d (Conv1D)             (None, 1, 128)            4608      \n",
            "                                                                 \n",
            " dense_4 (Dense)             (None, 1, 1)              129       \n",
            "                                                                 \n",
            "=================================================================\n",
            "Total params: 4737 (18.50 KB)\n",
            "Trainable params: 4737 (18.50 KB)\n",
            "Non-trainable params: 0 (0.00 Byte)\n",
            "_________________________________________________________________\n"
          ]
        }
      ]
    },
    {
      "cell_type": "markdown",
      "metadata": {
        "id": "MIZEau4Vjk-M"
      },
      "source": [
        "The Lambda layer appears the same as any other regular layer.\n",
        "\n",
        "Time to evaluate the Conv1D model."
      ]
    },
    {
      "cell_type": "code",
      "metadata": {
        "id": "KXEL9FuhsD-3",
        "colab": {
          "base_uri": "https://localhost:8080/",
          "height": 0
        },
        "outputId": "45f3425f-e371-4b36-8bf2-093a5a10dbe4"
      },
      "source": [
        "# Load in best performing Conv1D model and evaluate it on the test data\n",
        "model_3 = tf.keras.models.load_model(\"model_experiments/model_3_conv1D\")\n",
        "model_3.evaluate(test_windows, test_labels)"
      ],
      "execution_count": 61,
      "outputs": [
        {
          "output_type": "stream",
          "name": "stdout",
          "text": [
            "18/18 [==============================] - 0s 4ms/step - loss: 568.4760\n"
          ]
        },
        {
          "output_type": "execute_result",
          "data": {
            "text/plain": [
              "568.4759521484375"
            ]
          },
          "metadata": {},
          "execution_count": 61
        }
      ]
    },
    {
      "cell_type": "code",
      "metadata": {
        "id": "j99tbnwSsD8R",
        "colab": {
          "base_uri": "https://localhost:8080/",
          "height": 0
        },
        "outputId": "9ad58600-9a9d-4dc1-d2a4-fa2790a385ff"
      },
      "source": [
        "# Make predictions\n",
        "model_3_preds = make_preds(model_3, test_windows)\n",
        "model_3_preds[:10]"
      ],
      "execution_count": 62,
      "outputs": [
        {
          "output_type": "stream",
          "name": "stdout",
          "text": [
            "18/18 [==============================] - 0s 2ms/step\n"
          ]
        },
        {
          "output_type": "execute_result",
          "data": {
            "text/plain": [
              "<tf.Tensor: shape=(10,), dtype=float32, numpy=\n",
              "array([8888.241 , 8796.676 , 8998.462 , 8791.0205, 8766.929 , 8733.151 ,\n",
              "       8675.98  , 8554.74  , 8460.629 , 8521.149 ], dtype=float32)>"
            ]
          },
          "metadata": {},
          "execution_count": 62
        }
      ]
    },
    {
      "cell_type": "code",
      "metadata": {
        "id": "yjfEDWxjrZW2",
        "colab": {
          "base_uri": "https://localhost:8080/",
          "height": 0
        },
        "outputId": "cce6f3f8-4009-4b55-f0f8-b4e3b4968c79"
      },
      "source": [
        "# Evaluate predictions\n",
        "model_3_results = evaluate_preds(y_true=tf.squeeze(test_labels),\n",
        "                                 y_pred=model_3_preds)\n",
        "model_3_results"
      ],
      "execution_count": 63,
      "outputs": [
        {
          "output_type": "execute_result",
          "data": {
            "text/plain": [
              "{'mae': 568.47595,\n",
              " 'mse': 1174863.1,\n",
              " 'rmse': 1083.911,\n",
              " 'mape': 2.5599654,\n",
              " 'mase': 0.9986548}"
            ]
          },
          "metadata": {},
          "execution_count": 63
        }
      ]
    },
    {
      "cell_type": "markdown",
      "metadata": {
        "id": "pZ2s0Rx0rZjE"
      },
      "source": [
        "## Model 4: RNN (LSTM)\n",
        "\n",
        "The `batch` dimension gets taken care of for us but our data is currently only has the `feature` dimension (`WINDOW_SIZE`).\n",
        "\n",
        "To fix this, just like we did with the `Conv1D` model, we can use a `tf.keras.layers.Lambda()` layer to adjust the shape of our input tensors to the LSTM layer.\n",
        "\n",
        "\n",
        "\n",
        "\n",
        "\n",
        "\n"
      ]
    },
    {
      "cell_type": "code",
      "metadata": {
        "id": "a6YFL_b-rZrt",
        "colab": {
          "base_uri": "https://localhost:8080/",
          "height": 0
        },
        "outputId": "b2454a1c-64a9-4160-b409-f6cae7df98a2"
      },
      "source": [
        "tf.random.set_seed(42)\n",
        "\n",
        "# Let's build an LSTM model with the Functional API\n",
        "inputs = layers.Input(shape=(WINDOW_SIZE))\n",
        "x = layers.Lambda(lambda x: tf.expand_dims(x, axis=1))(inputs) # expand input dimension to be compatible with LSTM\n",
        "# print(x.shape)\n",
        "# x = layers.LSTM(128, activation=\"relu\", return_sequences=True)(x) # this layer will error if the inputs are not the right shape\n",
        "x = layers.LSTM(128, activation=\"relu\")(x) # using the tanh loss function results in a massive error\n",
        "# print(x.shape)\n",
        "# Add another optional dense layer (you could add more of these to see if they improve model performance)\n",
        "# x = layers.Dense(32, activation=\"relu\")(x)\n",
        "output = layers.Dense(HORIZON)(x)\n",
        "model_4 = tf.keras.Model(inputs=inputs, outputs=output, name=\"model_4_lstm\")\n",
        "\n",
        "# Compile model\n",
        "model_4.compile(loss=\"mae\",\n",
        "                optimizer=tf.keras.optimizers.Adam())\n",
        "\n",
        "# Seems when saving the model several warnings are appearing: https://github.com/tensorflow/tensorflow/issues/47554\n",
        "model_4.fit(train_windows,\n",
        "            train_labels,\n",
        "            epochs=100,\n",
        "            verbose=0,\n",
        "            batch_size=128,\n",
        "            validation_data=(test_windows, test_labels),\n",
        "            callbacks=[create_model_checkpoint(model_name=model_4.name)])"
      ],
      "execution_count": 71,
      "outputs": [
        {
          "output_type": "stream",
          "name": "stderr",
          "text": [
            "WARNING:tensorflow:Layer lstm_1 will not use cuDNN kernels since it doesn't meet the criteria. It will use a generic GPU kernel as fallback when running on GPU.\n"
          ]
        },
        {
          "output_type": "execute_result",
          "data": {
            "text/plain": [
              "<keras.src.callbacks.History at 0x79a458d361d0>"
            ]
          },
          "metadata": {},
          "execution_count": 71
        }
      ]
    },
    {
      "cell_type": "code",
      "metadata": {
        "id": "cOpHqmEtSsNw",
        "colab": {
          "base_uri": "https://localhost:8080/",
          "height": 0
        },
        "outputId": "f01d61be-f920-46af-f5a3-5a83e89ca6c5"
      },
      "source": [
        "# Load in best version of model 5 and evaluate on the test data\n",
        "model_4 = tf.keras.models.load_model(\"model_experiments/model_4_lstm/\")\n",
        "model_4.evaluate(test_windows, test_labels)"
      ],
      "execution_count": 72,
      "outputs": [
        {
          "output_type": "stream",
          "name": "stderr",
          "text": [
            "WARNING:tensorflow:Layer lstm_1 will not use cuDNN kernels since it doesn't meet the criteria. It will use a generic GPU kernel as fallback when running on GPU.\n"
          ]
        },
        {
          "output_type": "stream",
          "name": "stdout",
          "text": [
            "18/18 [==============================] - 0s 2ms/step - loss: 585.5589\n"
          ]
        },
        {
          "output_type": "execute_result",
          "data": {
            "text/plain": [
              "585.5588989257812"
            ]
          },
          "metadata": {},
          "execution_count": 72
        }
      ]
    },
    {
      "cell_type": "code",
      "metadata": {
        "id": "yfG11v_51UWa",
        "colab": {
          "base_uri": "https://localhost:8080/",
          "height": 0
        },
        "outputId": "3e6072f0-b1a2-463d-ccaf-92b0bb721045"
      },
      "source": [
        "# Make predictions with our LSTM model\n",
        "model_4_preds = make_preds(model_4, test_windows)\n",
        "model_4_preds[:10]"
      ],
      "execution_count": 73,
      "outputs": [
        {
          "output_type": "stream",
          "name": "stdout",
          "text": [
            "18/18 [==============================] - 0s 2ms/step\n"
          ]
        },
        {
          "output_type": "execute_result",
          "data": {
            "text/plain": [
              "<tf.Tensor: shape=(10,), dtype=float32, numpy=\n",
              "array([8938.514, 8802.7  , 8974.319, 8802.732, 8747.17 , 8751.805,\n",
              "       8690.689, 8538.492, 8481.432, 8508.825], dtype=float32)>"
            ]
          },
          "metadata": {},
          "execution_count": 73
        }
      ]
    },
    {
      "cell_type": "code",
      "metadata": {
        "id": "sVv5Kg5N1axK",
        "colab": {
          "base_uri": "https://localhost:8080/",
          "height": 0
        },
        "outputId": "9a7b1327-41c0-4e85-ff37-44318239aa47"
      },
      "source": [
        "# Evaluate model 4 preds\n",
        "model_4_results = evaluate_preds(y_true=tf.squeeze(test_labels),\n",
        "                                 y_pred=model_4_preds)\n",
        "model_4_results"
      ],
      "execution_count": 74,
      "outputs": [
        {
          "output_type": "execute_result",
          "data": {
            "text/plain": [
              "{'mae': 585.5589,\n",
              " 'mse': 1233564.1,\n",
              " 'rmse': 1110.6593,\n",
              " 'mape': 2.6269805,\n",
              " 'mase': 1.0286648}"
            ]
          },
          "metadata": {},
          "execution_count": 74
        }
      ]
    },
    {
      "cell_type": "markdown",
      "metadata": {
        "id": "V_chWnLWlb2O"
      },
      "source": [
        "LSTM-powered RNN we weren't able to beat our naïve models results.\n",
        "\n"
      ]
    },
    {
      "cell_type": "markdown",
      "metadata": {
        "id": "xWwHor7lBR3b"
      },
      "source": [
        "## Compare Models\n",
        "\n",
        "Let's compare the results of all of the models."
      ]
    },
    {
      "cell_type": "code",
      "metadata": {
        "id": "vZtkauQXBXVx",
        "colab": {
          "base_uri": "https://localhost:8080/",
          "height": 206
        },
        "outputId": "6ddb2dbb-4f7d-4dc5-a277-44f297f8979d"
      },
      "source": [
        "# Compare different model results (w = window, h = horizon, e.g. w=7 means a window size of 7)\n",
        "model_results = pd.DataFrame({\"naive_model\": naive_results,\n",
        "                              \"model_1_dense_w7_h1\": model_1_results,\n",
        "                              \"model_2_dense_w30_h1\": model_2_results,\n",
        "                              \"model_3_CONV1D\": model_3_results,\n",
        "                              \"model_4_LSTM\": model_4_results}).T\n",
        "model_results.head(7)"
      ],
      "execution_count": 75,
      "outputs": [
        {
          "output_type": "execute_result",
          "data": {
            "text/plain": [
              "                             mae          mse         rmse      mape      mase\n",
              "naive_model           567.980225  1147547.000  1071.236206  2.516525  0.999570\n",
              "model_1_dense_w7_h1   567.524841  1163558.500  1078.683716  2.562891  0.996984\n",
              "model_2_dense_w30_h1  612.098816  1296957.250  1138.840332  2.776451  1.069955\n",
              "model_3_CONV1D        568.475952  1174863.125  1083.911011  2.559965  0.998655\n",
              "model_4_LSTM          585.558899  1233564.125  1110.659302  2.626981  1.028665"
            ],
            "text/html": [
              "\n",
              "  <div id=\"df-e4a28fbd-7834-4784-b5ab-f0442645ccf3\" class=\"colab-df-container\">\n",
              "    <div>\n",
              "<style scoped>\n",
              "    .dataframe tbody tr th:only-of-type {\n",
              "        vertical-align: middle;\n",
              "    }\n",
              "\n",
              "    .dataframe tbody tr th {\n",
              "        vertical-align: top;\n",
              "    }\n",
              "\n",
              "    .dataframe thead th {\n",
              "        text-align: right;\n",
              "    }\n",
              "</style>\n",
              "<table border=\"1\" class=\"dataframe\">\n",
              "  <thead>\n",
              "    <tr style=\"text-align: right;\">\n",
              "      <th></th>\n",
              "      <th>mae</th>\n",
              "      <th>mse</th>\n",
              "      <th>rmse</th>\n",
              "      <th>mape</th>\n",
              "      <th>mase</th>\n",
              "    </tr>\n",
              "  </thead>\n",
              "  <tbody>\n",
              "    <tr>\n",
              "      <th>naive_model</th>\n",
              "      <td>567.980225</td>\n",
              "      <td>1147547.000</td>\n",
              "      <td>1071.236206</td>\n",
              "      <td>2.516525</td>\n",
              "      <td>0.999570</td>\n",
              "    </tr>\n",
              "    <tr>\n",
              "      <th>model_1_dense_w7_h1</th>\n",
              "      <td>567.524841</td>\n",
              "      <td>1163558.500</td>\n",
              "      <td>1078.683716</td>\n",
              "      <td>2.562891</td>\n",
              "      <td>0.996984</td>\n",
              "    </tr>\n",
              "    <tr>\n",
              "      <th>model_2_dense_w30_h1</th>\n",
              "      <td>612.098816</td>\n",
              "      <td>1296957.250</td>\n",
              "      <td>1138.840332</td>\n",
              "      <td>2.776451</td>\n",
              "      <td>1.069955</td>\n",
              "    </tr>\n",
              "    <tr>\n",
              "      <th>model_3_CONV1D</th>\n",
              "      <td>568.475952</td>\n",
              "      <td>1174863.125</td>\n",
              "      <td>1083.911011</td>\n",
              "      <td>2.559965</td>\n",
              "      <td>0.998655</td>\n",
              "    </tr>\n",
              "    <tr>\n",
              "      <th>model_4_LSTM</th>\n",
              "      <td>585.558899</td>\n",
              "      <td>1233564.125</td>\n",
              "      <td>1110.659302</td>\n",
              "      <td>2.626981</td>\n",
              "      <td>1.028665</td>\n",
              "    </tr>\n",
              "  </tbody>\n",
              "</table>\n",
              "</div>\n",
              "    <div class=\"colab-df-buttons\">\n",
              "\n",
              "  <div class=\"colab-df-container\">\n",
              "    <button class=\"colab-df-convert\" onclick=\"convertToInteractive('df-e4a28fbd-7834-4784-b5ab-f0442645ccf3')\"\n",
              "            title=\"Convert this dataframe to an interactive table.\"\n",
              "            style=\"display:none;\">\n",
              "\n",
              "  <svg xmlns=\"http://www.w3.org/2000/svg\" height=\"24px\" viewBox=\"0 -960 960 960\">\n",
              "    <path d=\"M120-120v-720h720v720H120Zm60-500h600v-160H180v160Zm220 220h160v-160H400v160Zm0 220h160v-160H400v160ZM180-400h160v-160H180v160Zm440 0h160v-160H620v160ZM180-180h160v-160H180v160Zm440 0h160v-160H620v160Z\"/>\n",
              "  </svg>\n",
              "    </button>\n",
              "\n",
              "  <style>\n",
              "    .colab-df-container {\n",
              "      display:flex;\n",
              "      gap: 12px;\n",
              "    }\n",
              "\n",
              "    .colab-df-convert {\n",
              "      background-color: #E8F0FE;\n",
              "      border: none;\n",
              "      border-radius: 50%;\n",
              "      cursor: pointer;\n",
              "      display: none;\n",
              "      fill: #1967D2;\n",
              "      height: 32px;\n",
              "      padding: 0 0 0 0;\n",
              "      width: 32px;\n",
              "    }\n",
              "\n",
              "    .colab-df-convert:hover {\n",
              "      background-color: #E2EBFA;\n",
              "      box-shadow: 0px 1px 2px rgba(60, 64, 67, 0.3), 0px 1px 3px 1px rgba(60, 64, 67, 0.15);\n",
              "      fill: #174EA6;\n",
              "    }\n",
              "\n",
              "    .colab-df-buttons div {\n",
              "      margin-bottom: 4px;\n",
              "    }\n",
              "\n",
              "    [theme=dark] .colab-df-convert {\n",
              "      background-color: #3B4455;\n",
              "      fill: #D2E3FC;\n",
              "    }\n",
              "\n",
              "    [theme=dark] .colab-df-convert:hover {\n",
              "      background-color: #434B5C;\n",
              "      box-shadow: 0px 1px 3px 1px rgba(0, 0, 0, 0.15);\n",
              "      filter: drop-shadow(0px 1px 2px rgba(0, 0, 0, 0.3));\n",
              "      fill: #FFFFFF;\n",
              "    }\n",
              "  </style>\n",
              "\n",
              "    <script>\n",
              "      const buttonEl =\n",
              "        document.querySelector('#df-e4a28fbd-7834-4784-b5ab-f0442645ccf3 button.colab-df-convert');\n",
              "      buttonEl.style.display =\n",
              "        google.colab.kernel.accessAllowed ? 'block' : 'none';\n",
              "\n",
              "      async function convertToInteractive(key) {\n",
              "        const element = document.querySelector('#df-e4a28fbd-7834-4784-b5ab-f0442645ccf3');\n",
              "        const dataTable =\n",
              "          await google.colab.kernel.invokeFunction('convertToInteractive',\n",
              "                                                    [key], {});\n",
              "        if (!dataTable) return;\n",
              "\n",
              "        const docLinkHtml = 'Like what you see? Visit the ' +\n",
              "          '<a target=\"_blank\" href=https://colab.research.google.com/notebooks/data_table.ipynb>data table notebook</a>'\n",
              "          + ' to learn more about interactive tables.';\n",
              "        element.innerHTML = '';\n",
              "        dataTable['output_type'] = 'display_data';\n",
              "        await google.colab.output.renderOutput(dataTable, element);\n",
              "        const docLink = document.createElement('div');\n",
              "        docLink.innerHTML = docLinkHtml;\n",
              "        element.appendChild(docLink);\n",
              "      }\n",
              "    </script>\n",
              "  </div>\n",
              "\n",
              "\n",
              "<div id=\"df-37edf878-3806-431f-ac18-f246397e7f6c\">\n",
              "  <button class=\"colab-df-quickchart\" onclick=\"quickchart('df-37edf878-3806-431f-ac18-f246397e7f6c')\"\n",
              "            title=\"Suggest charts.\"\n",
              "            style=\"display:none;\">\n",
              "\n",
              "<svg xmlns=\"http://www.w3.org/2000/svg\" height=\"24px\"viewBox=\"0 0 24 24\"\n",
              "     width=\"24px\">\n",
              "    <g>\n",
              "        <path d=\"M19 3H5c-1.1 0-2 .9-2 2v14c0 1.1.9 2 2 2h14c1.1 0 2-.9 2-2V5c0-1.1-.9-2-2-2zM9 17H7v-7h2v7zm4 0h-2V7h2v10zm4 0h-2v-4h2v4z\"/>\n",
              "    </g>\n",
              "</svg>\n",
              "  </button>\n",
              "\n",
              "<style>\n",
              "  .colab-df-quickchart {\n",
              "      --bg-color: #E8F0FE;\n",
              "      --fill-color: #1967D2;\n",
              "      --hover-bg-color: #E2EBFA;\n",
              "      --hover-fill-color: #174EA6;\n",
              "      --disabled-fill-color: #AAA;\n",
              "      --disabled-bg-color: #DDD;\n",
              "  }\n",
              "\n",
              "  [theme=dark] .colab-df-quickchart {\n",
              "      --bg-color: #3B4455;\n",
              "      --fill-color: #D2E3FC;\n",
              "      --hover-bg-color: #434B5C;\n",
              "      --hover-fill-color: #FFFFFF;\n",
              "      --disabled-bg-color: #3B4455;\n",
              "      --disabled-fill-color: #666;\n",
              "  }\n",
              "\n",
              "  .colab-df-quickchart {\n",
              "    background-color: var(--bg-color);\n",
              "    border: none;\n",
              "    border-radius: 50%;\n",
              "    cursor: pointer;\n",
              "    display: none;\n",
              "    fill: var(--fill-color);\n",
              "    height: 32px;\n",
              "    padding: 0;\n",
              "    width: 32px;\n",
              "  }\n",
              "\n",
              "  .colab-df-quickchart:hover {\n",
              "    background-color: var(--hover-bg-color);\n",
              "    box-shadow: 0 1px 2px rgba(60, 64, 67, 0.3), 0 1px 3px 1px rgba(60, 64, 67, 0.15);\n",
              "    fill: var(--button-hover-fill-color);\n",
              "  }\n",
              "\n",
              "  .colab-df-quickchart-complete:disabled,\n",
              "  .colab-df-quickchart-complete:disabled:hover {\n",
              "    background-color: var(--disabled-bg-color);\n",
              "    fill: var(--disabled-fill-color);\n",
              "    box-shadow: none;\n",
              "  }\n",
              "\n",
              "  .colab-df-spinner {\n",
              "    border: 2px solid var(--fill-color);\n",
              "    border-color: transparent;\n",
              "    border-bottom-color: var(--fill-color);\n",
              "    animation:\n",
              "      spin 1s steps(1) infinite;\n",
              "  }\n",
              "\n",
              "  @keyframes spin {\n",
              "    0% {\n",
              "      border-color: transparent;\n",
              "      border-bottom-color: var(--fill-color);\n",
              "      border-left-color: var(--fill-color);\n",
              "    }\n",
              "    20% {\n",
              "      border-color: transparent;\n",
              "      border-left-color: var(--fill-color);\n",
              "      border-top-color: var(--fill-color);\n",
              "    }\n",
              "    30% {\n",
              "      border-color: transparent;\n",
              "      border-left-color: var(--fill-color);\n",
              "      border-top-color: var(--fill-color);\n",
              "      border-right-color: var(--fill-color);\n",
              "    }\n",
              "    40% {\n",
              "      border-color: transparent;\n",
              "      border-right-color: var(--fill-color);\n",
              "      border-top-color: var(--fill-color);\n",
              "    }\n",
              "    60% {\n",
              "      border-color: transparent;\n",
              "      border-right-color: var(--fill-color);\n",
              "    }\n",
              "    80% {\n",
              "      border-color: transparent;\n",
              "      border-right-color: var(--fill-color);\n",
              "      border-bottom-color: var(--fill-color);\n",
              "    }\n",
              "    90% {\n",
              "      border-color: transparent;\n",
              "      border-bottom-color: var(--fill-color);\n",
              "    }\n",
              "  }\n",
              "</style>\n",
              "\n",
              "  <script>\n",
              "    async function quickchart(key) {\n",
              "      const quickchartButtonEl =\n",
              "        document.querySelector('#' + key + ' button');\n",
              "      quickchartButtonEl.disabled = true;  // To prevent multiple clicks.\n",
              "      quickchartButtonEl.classList.add('colab-df-spinner');\n",
              "      try {\n",
              "        const charts = await google.colab.kernel.invokeFunction(\n",
              "            'suggestCharts', [key], {});\n",
              "      } catch (error) {\n",
              "        console.error('Error during call to suggestCharts:', error);\n",
              "      }\n",
              "      quickchartButtonEl.classList.remove('colab-df-spinner');\n",
              "      quickchartButtonEl.classList.add('colab-df-quickchart-complete');\n",
              "    }\n",
              "    (() => {\n",
              "      let quickchartButtonEl =\n",
              "        document.querySelector('#df-37edf878-3806-431f-ac18-f246397e7f6c button');\n",
              "      quickchartButtonEl.style.display =\n",
              "        google.colab.kernel.accessAllowed ? 'block' : 'none';\n",
              "    })();\n",
              "  </script>\n",
              "</div>\n",
              "    </div>\n",
              "  </div>\n"
            ]
          },
          "metadata": {},
          "execution_count": 75
        }
      ]
    },
    {
      "cell_type": "code",
      "metadata": {
        "id": "PrLcCM-LFv2B",
        "colab": {
          "base_uri": "https://localhost:8080/",
          "height": 753
        },
        "outputId": "eaf584fe-3ab9-48f8-e29d-d2deb2429d22"
      },
      "source": [
        "# Sort model results by MAE and plot them\n",
        "model_results[[\"mae\"]].sort_values(by=\"mae\").plot(figsize=(10, 7), kind=\"bar\");"
      ],
      "execution_count": 76,
      "outputs": [
        {
          "output_type": "display_data",
          "data": {
            "text/plain": [
              "<Figure size 1000x700 with 1 Axes>"
            ],
            "image/png": "[encoded data removed]"
          },
          "metadata": {}
        }
      ]
    }
  ]
}